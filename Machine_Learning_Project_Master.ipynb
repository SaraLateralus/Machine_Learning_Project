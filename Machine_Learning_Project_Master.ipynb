{
 "cells": [
  {
   "cell_type": "code",
   "execution_count": 39,
   "id": "ed7a1368-9145-423d-a32e-23b05a6c9a56",
   "metadata": {},
   "outputs": [],
   "source": [
    "import pandas as pd\n",
    "import numpy as np\n",
    "import matplotlib.pyplot as plt\n"
   ]
  },
  {
   "cell_type": "code",
   "execution_count": 40,
   "id": "00b849e4-0f10-4005-82d4-1a86717e91b4",
   "metadata": {},
   "outputs": [
    {
     "data": {
      "text/html": [
       "<div>\n",
       "<style scoped>\n",
       "    .dataframe tbody tr th:only-of-type {\n",
       "        vertical-align: middle;\n",
       "    }\n",
       "\n",
       "    .dataframe tbody tr th {\n",
       "        vertical-align: top;\n",
       "    }\n",
       "\n",
       "    .dataframe thead th {\n",
       "        text-align: right;\n",
       "    }\n",
       "</style>\n",
       "<table border=\"1\" class=\"dataframe\">\n",
       "  <thead>\n",
       "    <tr style=\"text-align: right;\">\n",
       "      <th></th>\n",
       "      <th>id</th>\n",
       "      <th>amount_tsh</th>\n",
       "      <th>date_recorded</th>\n",
       "      <th>funder</th>\n",
       "      <th>gps_height</th>\n",
       "      <th>installer</th>\n",
       "      <th>longitude</th>\n",
       "      <th>latitude</th>\n",
       "      <th>wpt_name</th>\n",
       "      <th>num_private</th>\n",
       "      <th>...</th>\n",
       "      <th>payment_type</th>\n",
       "      <th>water_quality</th>\n",
       "      <th>quality_group</th>\n",
       "      <th>quantity</th>\n",
       "      <th>quantity_group</th>\n",
       "      <th>source</th>\n",
       "      <th>source_type</th>\n",
       "      <th>source_class</th>\n",
       "      <th>waterpoint_type</th>\n",
       "      <th>waterpoint_type_group</th>\n",
       "    </tr>\n",
       "  </thead>\n",
       "  <tbody>\n",
       "    <tr>\n",
       "      <th>0</th>\n",
       "      <td>69572</td>\n",
       "      <td>6000.0</td>\n",
       "      <td>2011-03-14</td>\n",
       "      <td>Roman</td>\n",
       "      <td>1390</td>\n",
       "      <td>Roman</td>\n",
       "      <td>34.938093</td>\n",
       "      <td>-9.856322</td>\n",
       "      <td>none</td>\n",
       "      <td>0</td>\n",
       "      <td>...</td>\n",
       "      <td>annually</td>\n",
       "      <td>soft</td>\n",
       "      <td>good</td>\n",
       "      <td>enough</td>\n",
       "      <td>enough</td>\n",
       "      <td>spring</td>\n",
       "      <td>spring</td>\n",
       "      <td>groundwater</td>\n",
       "      <td>communal standpipe</td>\n",
       "      <td>communal standpipe</td>\n",
       "    </tr>\n",
       "    <tr>\n",
       "      <th>1</th>\n",
       "      <td>8776</td>\n",
       "      <td>0.0</td>\n",
       "      <td>2013-03-06</td>\n",
       "      <td>Grumeti</td>\n",
       "      <td>1399</td>\n",
       "      <td>GRUMETI</td>\n",
       "      <td>34.698766</td>\n",
       "      <td>-2.147466</td>\n",
       "      <td>Zahanati</td>\n",
       "      <td>0</td>\n",
       "      <td>...</td>\n",
       "      <td>never pay</td>\n",
       "      <td>soft</td>\n",
       "      <td>good</td>\n",
       "      <td>insufficient</td>\n",
       "      <td>insufficient</td>\n",
       "      <td>rainwater harvesting</td>\n",
       "      <td>rainwater harvesting</td>\n",
       "      <td>surface</td>\n",
       "      <td>communal standpipe</td>\n",
       "      <td>communal standpipe</td>\n",
       "    </tr>\n",
       "    <tr>\n",
       "      <th>2</th>\n",
       "      <td>34310</td>\n",
       "      <td>25.0</td>\n",
       "      <td>2013-02-25</td>\n",
       "      <td>Lottery Club</td>\n",
       "      <td>686</td>\n",
       "      <td>World vision</td>\n",
       "      <td>37.460664</td>\n",
       "      <td>-3.821329</td>\n",
       "      <td>Kwa Mahundi</td>\n",
       "      <td>0</td>\n",
       "      <td>...</td>\n",
       "      <td>per bucket</td>\n",
       "      <td>soft</td>\n",
       "      <td>good</td>\n",
       "      <td>enough</td>\n",
       "      <td>enough</td>\n",
       "      <td>dam</td>\n",
       "      <td>dam</td>\n",
       "      <td>surface</td>\n",
       "      <td>communal standpipe multiple</td>\n",
       "      <td>communal standpipe</td>\n",
       "    </tr>\n",
       "    <tr>\n",
       "      <th>3</th>\n",
       "      <td>67743</td>\n",
       "      <td>0.0</td>\n",
       "      <td>2013-01-28</td>\n",
       "      <td>Unicef</td>\n",
       "      <td>263</td>\n",
       "      <td>UNICEF</td>\n",
       "      <td>38.486161</td>\n",
       "      <td>-11.155298</td>\n",
       "      <td>Zahanati Ya Nanyumbu</td>\n",
       "      <td>0</td>\n",
       "      <td>...</td>\n",
       "      <td>never pay</td>\n",
       "      <td>soft</td>\n",
       "      <td>good</td>\n",
       "      <td>dry</td>\n",
       "      <td>dry</td>\n",
       "      <td>machine dbh</td>\n",
       "      <td>borehole</td>\n",
       "      <td>groundwater</td>\n",
       "      <td>communal standpipe multiple</td>\n",
       "      <td>communal standpipe</td>\n",
       "    </tr>\n",
       "    <tr>\n",
       "      <th>4</th>\n",
       "      <td>19728</td>\n",
       "      <td>0.0</td>\n",
       "      <td>2011-07-13</td>\n",
       "      <td>Action In A</td>\n",
       "      <td>0</td>\n",
       "      <td>Artisan</td>\n",
       "      <td>31.130847</td>\n",
       "      <td>-1.825359</td>\n",
       "      <td>Shuleni</td>\n",
       "      <td>0</td>\n",
       "      <td>...</td>\n",
       "      <td>never pay</td>\n",
       "      <td>soft</td>\n",
       "      <td>good</td>\n",
       "      <td>seasonal</td>\n",
       "      <td>seasonal</td>\n",
       "      <td>rainwater harvesting</td>\n",
       "      <td>rainwater harvesting</td>\n",
       "      <td>surface</td>\n",
       "      <td>communal standpipe</td>\n",
       "      <td>communal standpipe</td>\n",
       "    </tr>\n",
       "  </tbody>\n",
       "</table>\n",
       "<p>5 rows × 40 columns</p>\n",
       "</div>"
      ],
      "text/plain": [
       "      id  amount_tsh date_recorded        funder  gps_height     installer  \\\n",
       "0  69572      6000.0    2011-03-14         Roman        1390         Roman   \n",
       "1   8776         0.0    2013-03-06       Grumeti        1399       GRUMETI   \n",
       "2  34310        25.0    2013-02-25  Lottery Club         686  World vision   \n",
       "3  67743         0.0    2013-01-28        Unicef         263        UNICEF   \n",
       "4  19728         0.0    2011-07-13   Action In A           0       Artisan   \n",
       "\n",
       "   longitude   latitude              wpt_name  num_private  ... payment_type  \\\n",
       "0  34.938093  -9.856322                  none            0  ...     annually   \n",
       "1  34.698766  -2.147466              Zahanati            0  ...    never pay   \n",
       "2  37.460664  -3.821329           Kwa Mahundi            0  ...   per bucket   \n",
       "3  38.486161 -11.155298  Zahanati Ya Nanyumbu            0  ...    never pay   \n",
       "4  31.130847  -1.825359               Shuleni            0  ...    never pay   \n",
       "\n",
       "  water_quality quality_group      quantity  quantity_group  \\\n",
       "0          soft          good        enough          enough   \n",
       "1          soft          good  insufficient    insufficient   \n",
       "2          soft          good        enough          enough   \n",
       "3          soft          good           dry             dry   \n",
       "4          soft          good      seasonal        seasonal   \n",
       "\n",
       "                 source           source_type  source_class  \\\n",
       "0                spring                spring   groundwater   \n",
       "1  rainwater harvesting  rainwater harvesting       surface   \n",
       "2                   dam                   dam       surface   \n",
       "3           machine dbh              borehole   groundwater   \n",
       "4  rainwater harvesting  rainwater harvesting       surface   \n",
       "\n",
       "               waterpoint_type waterpoint_type_group  \n",
       "0           communal standpipe    communal standpipe  \n",
       "1           communal standpipe    communal standpipe  \n",
       "2  communal standpipe multiple    communal standpipe  \n",
       "3  communal standpipe multiple    communal standpipe  \n",
       "4           communal standpipe    communal standpipe  \n",
       "\n",
       "[5 rows x 40 columns]"
      ]
     },
     "execution_count": 40,
     "metadata": {},
     "output_type": "execute_result"
    }
   ],
   "source": [
    "df = pd.read_csv(\"env_ML/data base/4910797b-ee55-40a7-8668-10efd5c1b960.csv\")\n",
    "df.head()"
   ]
  },
  {
   "cell_type": "code",
   "execution_count": 41,
   "id": "12282fd8-3c8b-4be5-a8f0-788be2003d72",
   "metadata": {},
   "outputs": [
    {
     "name": "stdout",
     "output_type": "stream",
     "text": [
      "<class 'pandas.core.frame.DataFrame'>\n",
      "RangeIndex: 59400 entries, 0 to 59399\n",
      "Data columns (total 40 columns):\n",
      " #   Column                 Non-Null Count  Dtype  \n",
      "---  ------                 --------------  -----  \n",
      " 0   id                     59400 non-null  int64  \n",
      " 1   amount_tsh             59400 non-null  float64\n",
      " 2   date_recorded          59400 non-null  object \n",
      " 3   funder                 55763 non-null  object \n",
      " 4   gps_height             59400 non-null  int64  \n",
      " 5   installer              55745 non-null  object \n",
      " 6   longitude              59400 non-null  float64\n",
      " 7   latitude               59400 non-null  float64\n",
      " 8   wpt_name               59398 non-null  object \n",
      " 9   num_private            59400 non-null  int64  \n",
      " 10  basin                  59400 non-null  object \n",
      " 11  subvillage             59029 non-null  object \n",
      " 12  region                 59400 non-null  object \n",
      " 13  region_code            59400 non-null  int64  \n",
      " 14  district_code          59400 non-null  int64  \n",
      " 15  lga                    59400 non-null  object \n",
      " 16  ward                   59400 non-null  object \n",
      " 17  population             59400 non-null  int64  \n",
      " 18  public_meeting         56066 non-null  object \n",
      " 19  recorded_by            59400 non-null  object \n",
      " 20  scheme_management      55522 non-null  object \n",
      " 21  scheme_name            30590 non-null  object \n",
      " 22  permit                 56344 non-null  object \n",
      " 23  construction_year      59400 non-null  int64  \n",
      " 24  extraction_type        59400 non-null  object \n",
      " 25  extraction_type_group  59400 non-null  object \n",
      " 26  extraction_type_class  59400 non-null  object \n",
      " 27  management             59400 non-null  object \n",
      " 28  management_group       59400 non-null  object \n",
      " 29  payment                59400 non-null  object \n",
      " 30  payment_type           59400 non-null  object \n",
      " 31  water_quality          59400 non-null  object \n",
      " 32  quality_group          59400 non-null  object \n",
      " 33  quantity               59400 non-null  object \n",
      " 34  quantity_group         59400 non-null  object \n",
      " 35  source                 59400 non-null  object \n",
      " 36  source_type            59400 non-null  object \n",
      " 37  source_class           59400 non-null  object \n",
      " 38  waterpoint_type        59400 non-null  object \n",
      " 39  waterpoint_type_group  59400 non-null  object \n",
      "dtypes: float64(3), int64(7), object(30)\n",
      "memory usage: 18.1+ MB\n"
     ]
    },
    {
     "data": {
      "text/html": [
       "<div>\n",
       "<style scoped>\n",
       "    .dataframe tbody tr th:only-of-type {\n",
       "        vertical-align: middle;\n",
       "    }\n",
       "\n",
       "    .dataframe tbody tr th {\n",
       "        vertical-align: top;\n",
       "    }\n",
       "\n",
       "    .dataframe thead th {\n",
       "        text-align: right;\n",
       "    }\n",
       "</style>\n",
       "<table border=\"1\" class=\"dataframe\">\n",
       "  <thead>\n",
       "    <tr style=\"text-align: right;\">\n",
       "      <th></th>\n",
       "      <th>id</th>\n",
       "      <th>amount_tsh</th>\n",
       "      <th>gps_height</th>\n",
       "      <th>longitude</th>\n",
       "      <th>latitude</th>\n",
       "      <th>num_private</th>\n",
       "      <th>region_code</th>\n",
       "      <th>district_code</th>\n",
       "      <th>population</th>\n",
       "      <th>construction_year</th>\n",
       "    </tr>\n",
       "  </thead>\n",
       "  <tbody>\n",
       "    <tr>\n",
       "      <th>count</th>\n",
       "      <td>59400.000000</td>\n",
       "      <td>59400.000000</td>\n",
       "      <td>59400.000000</td>\n",
       "      <td>59400.000000</td>\n",
       "      <td>5.940000e+04</td>\n",
       "      <td>59400.000000</td>\n",
       "      <td>59400.000000</td>\n",
       "      <td>59400.000000</td>\n",
       "      <td>59400.000000</td>\n",
       "      <td>59400.000000</td>\n",
       "    </tr>\n",
       "    <tr>\n",
       "      <th>mean</th>\n",
       "      <td>37115.131768</td>\n",
       "      <td>317.650385</td>\n",
       "      <td>668.297239</td>\n",
       "      <td>34.077427</td>\n",
       "      <td>-5.706033e+00</td>\n",
       "      <td>0.474141</td>\n",
       "      <td>15.297003</td>\n",
       "      <td>5.629747</td>\n",
       "      <td>179.909983</td>\n",
       "      <td>1300.652475</td>\n",
       "    </tr>\n",
       "    <tr>\n",
       "      <th>std</th>\n",
       "      <td>21453.128371</td>\n",
       "      <td>2997.574558</td>\n",
       "      <td>693.116350</td>\n",
       "      <td>6.567432</td>\n",
       "      <td>2.946019e+00</td>\n",
       "      <td>12.236230</td>\n",
       "      <td>17.587406</td>\n",
       "      <td>9.633649</td>\n",
       "      <td>471.482176</td>\n",
       "      <td>951.620547</td>\n",
       "    </tr>\n",
       "    <tr>\n",
       "      <th>min</th>\n",
       "      <td>0.000000</td>\n",
       "      <td>0.000000</td>\n",
       "      <td>-90.000000</td>\n",
       "      <td>0.000000</td>\n",
       "      <td>-1.164944e+01</td>\n",
       "      <td>0.000000</td>\n",
       "      <td>1.000000</td>\n",
       "      <td>0.000000</td>\n",
       "      <td>0.000000</td>\n",
       "      <td>0.000000</td>\n",
       "    </tr>\n",
       "    <tr>\n",
       "      <th>25%</th>\n",
       "      <td>18519.750000</td>\n",
       "      <td>0.000000</td>\n",
       "      <td>0.000000</td>\n",
       "      <td>33.090347</td>\n",
       "      <td>-8.540621e+00</td>\n",
       "      <td>0.000000</td>\n",
       "      <td>5.000000</td>\n",
       "      <td>2.000000</td>\n",
       "      <td>0.000000</td>\n",
       "      <td>0.000000</td>\n",
       "    </tr>\n",
       "    <tr>\n",
       "      <th>50%</th>\n",
       "      <td>37061.500000</td>\n",
       "      <td>0.000000</td>\n",
       "      <td>369.000000</td>\n",
       "      <td>34.908743</td>\n",
       "      <td>-5.021597e+00</td>\n",
       "      <td>0.000000</td>\n",
       "      <td>12.000000</td>\n",
       "      <td>3.000000</td>\n",
       "      <td>25.000000</td>\n",
       "      <td>1986.000000</td>\n",
       "    </tr>\n",
       "    <tr>\n",
       "      <th>75%</th>\n",
       "      <td>55656.500000</td>\n",
       "      <td>20.000000</td>\n",
       "      <td>1319.250000</td>\n",
       "      <td>37.178387</td>\n",
       "      <td>-3.326156e+00</td>\n",
       "      <td>0.000000</td>\n",
       "      <td>17.000000</td>\n",
       "      <td>5.000000</td>\n",
       "      <td>215.000000</td>\n",
       "      <td>2004.000000</td>\n",
       "    </tr>\n",
       "    <tr>\n",
       "      <th>max</th>\n",
       "      <td>74247.000000</td>\n",
       "      <td>350000.000000</td>\n",
       "      <td>2770.000000</td>\n",
       "      <td>40.345193</td>\n",
       "      <td>-2.000000e-08</td>\n",
       "      <td>1776.000000</td>\n",
       "      <td>99.000000</td>\n",
       "      <td>80.000000</td>\n",
       "      <td>30500.000000</td>\n",
       "      <td>2013.000000</td>\n",
       "    </tr>\n",
       "  </tbody>\n",
       "</table>\n",
       "</div>"
      ],
      "text/plain": [
       "                 id     amount_tsh    gps_height     longitude      latitude  \\\n",
       "count  59400.000000   59400.000000  59400.000000  59400.000000  5.940000e+04   \n",
       "mean   37115.131768     317.650385    668.297239     34.077427 -5.706033e+00   \n",
       "std    21453.128371    2997.574558    693.116350      6.567432  2.946019e+00   \n",
       "min        0.000000       0.000000    -90.000000      0.000000 -1.164944e+01   \n",
       "25%    18519.750000       0.000000      0.000000     33.090347 -8.540621e+00   \n",
       "50%    37061.500000       0.000000    369.000000     34.908743 -5.021597e+00   \n",
       "75%    55656.500000      20.000000   1319.250000     37.178387 -3.326156e+00   \n",
       "max    74247.000000  350000.000000   2770.000000     40.345193 -2.000000e-08   \n",
       "\n",
       "        num_private   region_code  district_code    population  \\\n",
       "count  59400.000000  59400.000000   59400.000000  59400.000000   \n",
       "mean       0.474141     15.297003       5.629747    179.909983   \n",
       "std       12.236230     17.587406       9.633649    471.482176   \n",
       "min        0.000000      1.000000       0.000000      0.000000   \n",
       "25%        0.000000      5.000000       2.000000      0.000000   \n",
       "50%        0.000000     12.000000       3.000000     25.000000   \n",
       "75%        0.000000     17.000000       5.000000    215.000000   \n",
       "max     1776.000000     99.000000      80.000000  30500.000000   \n",
       "\n",
       "       construction_year  \n",
       "count       59400.000000  \n",
       "mean         1300.652475  \n",
       "std           951.620547  \n",
       "min             0.000000  \n",
       "25%             0.000000  \n",
       "50%          1986.000000  \n",
       "75%          2004.000000  \n",
       "max          2013.000000  "
      ]
     },
     "execution_count": 41,
     "metadata": {},
     "output_type": "execute_result"
    }
   ],
   "source": [
    "df.info()\n",
    "\n",
    "df.describe()"
   ]
  },
  {
   "cell_type": "code",
   "execution_count": 42,
   "id": "b73ed1eb-5f80-4274-8fc2-3264422e32d3",
   "metadata": {},
   "outputs": [],
   "source": [
    "from pathlib import Path\n",
    "import pandas as pd"
   ]
  },
  {
   "cell_type": "code",
   "execution_count": 43,
   "id": "d08080dc-978d-4510-9454-9bd1af03abac",
   "metadata": {},
   "outputs": [],
   "source": [
    " # unimos features and labeld on \"id\""
   ]
  },
  {
   "cell_type": "code",
   "execution_count": 44,
   "id": "6c6ceaf6-fab2-4475-86e5-70bba703d7a6",
   "metadata": {},
   "outputs": [
    {
     "data": {
      "text/plain": [
       "((59400, 41),\n",
       " Index(['id', 'amount_tsh', 'date_recorded', 'funder', 'gps_height',\n",
       "        'installer', 'longitude', 'latitude'],\n",
       "       dtype='object'))"
      ]
     },
     "execution_count": 44,
     "metadata": {},
     "output_type": "execute_result"
    }
   ],
   "source": [
    "base = Path(r\"env_ML/data base\")\n",
    "X = pd.read_csv(base / \"4910797b-ee55-40a7-8668-10efd5c1b960.csv\")     \n",
    "y = pd.read_csv(base / \"0bf8bc6e-30d0-4c50-956a-603fc693d966.csv\")      \n",
    "df_train = X.merge(y, on=\"id\", how=\"inner\")\n",
    "df_train.shape, df_train.columns[:8]"
   ]
  },
  {
   "cell_type": "code",
   "execution_count": 18,
   "id": "9030a788-cd48-481a-8ff2-ec77433f9e0c",
   "metadata": {},
   "outputs": [],
   "source": [
    "  # arreglamos fecha "
   ]
  },
  {
   "cell_type": "code",
   "execution_count": 45,
   "id": "eb1b14e3-e5a5-49ef-b08e-6907a1805dcf",
   "metadata": {},
   "outputs": [
    {
     "data": {
      "text/plain": [
       "0       2011-03-14\n",
       "1       2013-03-06\n",
       "2       2013-02-25\n",
       "3       2013-01-28\n",
       "4       2011-07-13\n",
       "           ...    \n",
       "59395   2013-05-03\n",
       "59396   2011-05-07\n",
       "59397   2011-04-11\n",
       "59398   2011-03-08\n",
       "59399   2011-03-23\n",
       "Name: date_recorded, Length: 59400, dtype: datetime64[ns]"
      ]
     },
     "execution_count": 45,
     "metadata": {},
     "output_type": "execute_result"
    }
   ],
   "source": [
    "df = df_train.copy()\n",
    "\n",
    "# Fecha a datetime \n",
    "df['date_recorded'] = pd.to_datetime(df['date_recorded'], errors='coerce')\n",
    "\n",
    "df['date_recorded'] \n"
   ]
  },
  {
   "cell_type": "code",
   "execution_count": 20,
   "id": "fa2c4bbc-ffab-4e48-baca-959e93ff88be",
   "metadata": {},
   "outputs": [],
   "source": [
    "\n",
    "# rellenamos valores vacios con nan y contamos valores nan"
   ]
  },
  {
   "cell_type": "code",
   "execution_count": 46,
   "id": "84017806-bf0b-4d20-a273-c20c86e93e5d",
   "metadata": {},
   "outputs": [
    {
     "data": {
      "text/plain": [
       "scheme_name          48.501684\n",
       "scheme_management     6.528620\n",
       "installer             6.158249\n",
       "funder                6.122896\n",
       "public_meeting        5.612795\n",
       "permit                5.144781\n",
       "subvillage            0.624579\n",
       "wpt_name              0.003367\n",
       "dtype: float64"
      ]
     },
     "execution_count": 46,
     "metadata": {},
     "output_type": "execute_result"
    }
   ],
   "source": [
    "\n",
    "df = df.replace(['', ' ', '-'], np.nan)\n",
    "nan_values = (df.isna().mean()*100).sort_values(ascending=False)\n",
    "nan_values[nan_values>0]"
   ]
  },
  {
   "cell_type": "code",
   "execution_count": 47,
   "id": "8455b3e9-d967-4d6b-ac00-5d5c473d39c2",
   "metadata": {},
   "outputs": [
    {
     "data": {
      "text/plain": [
       "scheme_name          48.501684\n",
       "scheme_management     6.528620\n",
       "installer             6.158249\n",
       "funder                6.122896\n",
       "public_meeting        5.612795\n",
       "permit                5.144781\n",
       "subvillage            0.624579\n",
       "wpt_name              0.003367\n",
       "dtype: float64"
      ]
     },
     "execution_count": 47,
     "metadata": {},
     "output_type": "execute_result"
    }
   ],
   "source": [
    "df.loc[df['construction_year'] == 0, 'construction_year'] = np.nan\n",
    "nan_values[nan_values>0]"
   ]
  },
  {
   "cell_type": "code",
   "execution_count": null,
   "id": "8a3d7a6d-7a29-4977-af39-1ff91b916043",
   "metadata": {},
   "outputs": [],
   "source": [
    "#buscamos valores 0 para ver el sentido de los mismos en las columnas"
   ]
  },
  {
   "cell_type": "code",
   "execution_count": 48,
   "id": "45fb331c-fcf2-4c54-a592-e266d202d26b",
   "metadata": {},
   "outputs": [
    {
     "data": {
      "text/plain": [
       "num_private      58643\n",
       "amount_tsh       41639\n",
       "population       21381\n",
       "gps_height       20438\n",
       "longitude         1812\n",
       "district_code       23\n",
       "id                   1\n",
       "dtype: int64"
      ]
     },
     "execution_count": 48,
     "metadata": {},
     "output_type": "execute_result"
    }
   ],
   "source": [
    "num_cols = df.select_dtypes(include=['int64', 'float64']).columns\n",
    "ceros_count = (df[num_cols] == 0).sum()\n",
    "ceros_count[ceros_count > 0].sort_values(ascending=False)"
   ]
  },
  {
   "cell_type": "code",
   "execution_count": null,
   "id": "88896f07-bd74-4bc6-bb7d-389131c34d50",
   "metadata": {},
   "outputs": [],
   "source": [
    "#buscamos relacion amount_tsh y population cuando tienen valor 0 y la info de las bombas que no funcionan\n",
    "#num_private es una columna inutil"
   ]
  },
  {
   "cell_type": "code",
   "execution_count": 49,
   "id": "edc32809-fcdf-4e51-bdd5-34e2dd24add8",
   "metadata": {},
   "outputs": [
    {
     "name": "stdout",
     "output_type": "stream",
     "text": [
      "Distribución cuando amount_tsh = 0\n",
      "status_group\n",
      "functional                 0.473258\n",
      "non functional             0.453541\n",
      "functional needs repair    0.073201\n",
      "Name: proportion, dtype: float64\n",
      "\n",
      "Distribución cuando population = 0\n",
      "status_group\n",
      "functional                 0.527291\n",
      "non functional             0.389692\n",
      "functional needs repair    0.083018\n",
      "Name: proportion, dtype: float64\n"
     ]
    }
   ],
   "source": [
    "print(\"Distribución cuando amount_tsh = 0\")\n",
    "print(df.loc[df['amount_tsh'] == 0, 'status_group'].value_counts(normalize=True))\n",
    "\n",
    "print(\"\\nDistribución cuando population = 0\")\n",
    "print(df.loc[df['population'] == 0, 'status_group'].value_counts(normalize=True))"
   ]
  },
  {
   "cell_type": "code",
   "execution_count": null,
   "id": "de5b46e5-b038-43ec-847f-a645456f7b25",
   "metadata": {},
   "outputs": [],
   "source": [
    "#coinciden amount_tsh valores 0 y population valores 0 en las bombas?"
   ]
  },
  {
   "cell_type": "code",
   "execution_count": 50,
   "id": "cb7c011c-733b-48b6-a736-b5a34087682b",
   "metadata": {},
   "outputs": [
    {
     "name": "stdout",
     "output_type": "stream",
     "text": [
      "Número de bombas con población=0 y amount_tsh=0: 20356\n",
      "Proporción respecto al dataset: 0.3426936026936027\n",
      "status_group\n",
      "functional                 0.513018\n",
      "non functional             0.400422\n",
      "functional needs repair    0.086559\n",
      "Name: proportion, dtype: float64\n"
     ]
    }
   ],
   "source": [
    "df_both_zero = df[(df['population'] == 0) & (df['amount_tsh'] == 0)]\n",
    "\n",
    "print(\"Número de bombas con población=0 y amount_tsh=0:\", len(df_both_zero))\n",
    "\n",
    "print(\"Proporción respecto al dataset:\", len(df_both_zero) / len(df))\n",
    "\n",
    "print(df_both_zero['status_group'].value_counts(normalize=True))"
   ]
  },
  {
   "cell_type": "code",
   "execution_count": 51,
   "id": "7d7cb12c-3405-4241-b369-e6f8a6d21754",
   "metadata": {},
   "outputs": [
    {
     "name": "stdout",
     "output_type": "stream",
     "text": [
      "Bombas con poblacion = 0: 21381\n",
      "De ellas, amount_tsh = 0: 20356\n",
      "De ellas, amount_tsh not 0: 1025\n"
     ]
    }
   ],
   "source": [
    "total_pob0 = (df['population'] == 0).sum()\n",
    "\n",
    "pob0_amt0 = ((df['population'] == 0) & (df['amount_tsh'] == 0)).sum()\n",
    "\n",
    "\n",
    "pob0_amt_not0 = ((df['population'] == 0) & (df['amount_tsh'] != 0)).sum()\n",
    "\n",
    "print(\"Bombas con poblacion = 0:\", total_pob0)\n",
    "print(\"De ellas, amount_tsh = 0:\", pob0_amt0)\n",
    "print(\"De ellas, amount_tsh not 0:\", pob0_amt_not0)"
   ]
  },
  {
   "cell_type": "code",
   "execution_count": null,
   "id": "a316ce8e-c662-488f-9b60-dc31e5094e86",
   "metadata": {},
   "outputs": [],
   "source": [
    "#concluimos que los valores 0 en poblacion y amount_tsh son valores validos, ya que coinciden en su gran mayoria \n",
    "#(poblacion=0)  =   (cantidad de agua=0)"
   ]
  },
  {
   "cell_type": "code",
   "execution_count": null,
   "id": "0325a342-6615-448a-b14a-7d69a7ba0d1c",
   "metadata": {},
   "outputs": [],
   "source": [
    "#comprobmos los valores 0 en gps_height"
   ]
  },
  {
   "cell_type": "code",
   "execution_count": 52,
   "id": "2f8aeb2c-6f30-4987-a4e8-9d6492225d2b",
   "metadata": {},
   "outputs": [
    {
     "name": "stdout",
     "output_type": "stream",
     "text": [
      "Total de bombas: 59400\n",
      "Bombas con gps_height = 0: 20438\n",
      "Proporción: 34.41 %\n"
     ]
    }
   ],
   "source": [
    "gps0 = (df['gps_height'] == 0).sum()\n",
    "total = len(df)\n",
    "\n",
    "print(\"Total de bombas:\", total)\n",
    "print(\"Bombas con gps_height = 0:\", gps0)\n",
    "print(\"Proporción:\", round(gps0/total*100, 2), \"%\")"
   ]
  },
  {
   "cell_type": "code",
   "execution_count": 53,
   "id": "338fba81-57c1-4947-b822-ef07beac158f",
   "metadata": {},
   "outputs": [
    {
     "data": {
      "text/plain": [
       "count    38962.000000\n",
       "mean      1018.860839\n",
       "std        612.566092\n",
       "min        -90.000000\n",
       "25%        393.000000\n",
       "50%       1167.000000\n",
       "75%       1498.000000\n",
       "max       2770.000000\n",
       "Name: gps_height, dtype: float64"
      ]
     },
     "execution_count": 53,
     "metadata": {},
     "output_type": "execute_result"
    }
   ],
   "source": [
    "df[df['gps_height'] != 0]['gps_height'].describe()"
   ]
  },
  {
   "cell_type": "code",
   "execution_count": null,
   "id": "6b016153-4292-4543-a0b9-eca470990caf",
   "metadata": {},
   "outputs": [],
   "source": [
    "#dado que tenemos datos de localizacion geografica, podemos comprobar si la info de altitud que tenemos es real o no, \n",
    "#o sea que la altura 0 sea 0 respecto al nivel del mar y no missing value"
   ]
  },
  {
   "cell_type": "code",
   "execution_count": 54,
   "id": "bc64f407-c83a-4e30-aa04-88549dcf09fc",
   "metadata": {},
   "outputs": [
    {
     "name": "stdout",
     "output_type": "stream",
     "text": [
      "Latitud (gps_height=0): -10.36588275 a -2e-08\n",
      "Longitud (gps_height=0): 0.0 a 40.24624596\n",
      "\n",
      "Latitud (gps_height≠0): -11.64944018 a -1.04237489\n",
      "Longitud (gps_height≠0): 29.6071219 a 40.34519307\n"
     ]
    }
   ],
   "source": [
    "# Rangos de coordenadas con gps_height=0\n",
    "print(\"Latitud (gps_height=0):\", df[df['gps_height']==0]['latitude'].min(), \"a\", df[df['gps_height']==0]['latitude'].max())\n",
    "print(\"Longitud (gps_height=0):\", df[df['gps_height']==0]['longitude'].min(), \"a\", df[df['gps_height']==0]['longitude'].max())\n",
    "\n",
    "# Rangos de coordenadas con gps_height≠0\n",
    "print(\"\\nLatitud (gps_height≠0):\", df[df['gps_height']!=0]['latitude'].min(), \"a\", df[df['gps_height']!=0]['latitude'].max())\n",
    "print(\"Longitud (gps_height≠0):\", df[df['gps_height']!=0]['longitude'].min(), \"a\", df[df['gps_height']!=0]['longitude'].max())"
   ]
  },
  {
   "cell_type": "code",
   "execution_count": 55,
   "id": "5abf0ed8-300e-40d7-b203-5cd3b1c875c4",
   "metadata": {},
   "outputs": [
    {
     "name": "stdout",
     "output_type": "stream",
     "text": [
      "Bombas con gps_height=0: 20438\n",
      "De ellas, longitude=0: 1812\n",
      "De ellas, latitude=0: 0\n"
     ]
    }
   ],
   "source": [
    "# Total gps_height=0\n",
    "gps0_total = (df['gps_height'] == 0).sum()\n",
    "\n",
    "# gps_height=0 y longitude=0 (aunque latitude≠0)\n",
    "gps0_long0 = df[(df['gps_height'] == 0) & (df['longitude'] == 0)].shape[0]\n",
    "\n",
    "# gps_height=0 y latitude=0 (aunque longitude≠0)\n",
    "gps0_lat0 = df[(df['gps_height'] == 0) & (df['latitude'] == 0)].shape[0]\n",
    "\n",
    "print(\"Bombas con gps_height=0:\", gps0_total)\n",
    "print(\"De ellas, longitude=0:\", gps0_long0)\n",
    "print(\"De ellas, latitude=0:\", gps0_lat0)"
   ]
  },
  {
   "cell_type": "code",
   "execution_count": null,
   "id": "864371cb-0f27-456b-8f82-40b9f6ff846e",
   "metadata": {},
   "outputs": [],
   "source": [
    "#no encuentro correlacion, trataremos los valores 0 en gps como missing values"
   ]
  },
  {
   "cell_type": "code",
   "execution_count": null,
   "id": "07fb81b3-957b-43cd-8219-33be6c4c38cb",
   "metadata": {},
   "outputs": [],
   "source": [
    "#substituimos valores 0 en gps y latitud por Nan"
   ]
  },
  {
   "cell_type": "code",
   "execution_count": 56,
   "id": "b975ab9a-e739-42fc-b543-25caec3a23a4",
   "metadata": {},
   "outputs": [
    {
     "name": "stdout",
     "output_type": "stream",
     "text": [
      "Valores nulos en gps_height: 20438\n",
      "Valores nulos en longitude: 1812\n"
     ]
    }
   ],
   "source": [
    "# Copia del dataset para no perder el original\n",
    "df_clean = df.copy()\n",
    "\n",
    "# Reemplazar valores inválidos por NaN\n",
    "df_clean['gps_height'] = df_clean['gps_height'].replace(0, np.nan)\n",
    "df_clean['longitude'] = df_clean['longitude'].replace(0, np.nan)\n",
    "\n",
    "# Comprobar cuántos NaN tenemos ahora en esas columnas\n",
    "print(\"Valores nulos en gps_height:\", df_clean['gps_height'].isna().sum())\n",
    "print(\"Valores nulos en longitude:\", df_clean['longitude'].isna().sum())"
   ]
  },
  {
   "cell_type": "code",
   "execution_count": null,
   "id": "c5702ae7-fe7d-4977-bff9-7690189d34a2",
   "metadata": {},
   "outputs": [],
   "source": []
  },
  {
   "cell_type": "code",
   "execution_count": null,
   "id": "190f33bd-907a-4eda-8542-e2500faadd0a",
   "metadata": {},
   "outputs": [],
   "source": [
    "# imputamos los Nan con la media del distrito/region y en ultima instancia global"
   ]
  },
  {
   "cell_type": "code",
   "execution_count": 57,
   "id": "ae04776f-81ae-481a-9f91-0b9f961572b0",
   "metadata": {},
   "outputs": [
    {
     "name": "stdout",
     "output_type": "stream",
     "text": [
      "NaN restantes en gps_height: 0\n",
      "NaN restantes en longitude: 0\n"
     ]
    }
   ],
   "source": [
    "# Usamos el df_clean que ya tiene NaN donde antes había 0 en gps_height y longitude\n",
    "df_imp = df_clean.copy()\n",
    "\n",
    "# Elegimos la columna de agrupación (distrito). Si no existe, intentamos con region_code.\n",
    "group_col = 'district_code' if 'district_code' in df_imp.columns else (\n",
    "    'region_code' if 'region_code' in df_imp.columns else None\n",
    ")\n",
    "\n",
    "if group_col is not None:\n",
    "    # Imputar por media del grupo y luego mediana global si aún queda NaN\n",
    "    for col in ['gps_height', 'longitude']:\n",
    "        if col in df_imp.columns:\n",
    "            grp_mean = df_imp.groupby(group_col)[col].transform('mean')\n",
    "            df_imp[col] = df_imp[col].fillna(grp_mean)\n",
    "            df_imp[col] = df_imp[col].fillna(df_imp[col].median())\n",
    "else:\n",
    "    # Si no hay columna de grupo disponible, usar mediana global directamente\n",
    "    for col in ['gps_height', 'longitude']:\n",
    "        if col in df_imp.columns:\n",
    "            df_imp[col] = df_imp[col].fillna(df_imp[col].median())\n",
    "\n",
    "# Comprobación final\n",
    "print(\"NaN restantes en gps_height:\", df_imp['gps_height'].isna().sum())\n",
    "print(\"NaN restantes en longitude:\", df_imp['longitude'].isna().sum())"
   ]
  },
  {
   "cell_type": "code",
   "execution_count": null,
   "id": "c6c463df-c31a-49a1-a4b3-42ffd1f3afac",
   "metadata": {},
   "outputs": [],
   "source": [
    "#restantes columnas con nan y cantidades"
   ]
  },
  {
   "cell_type": "code",
   "execution_count": 58,
   "id": "9f81bcc1-3e88-45e5-bd83-84479fee2f3e",
   "metadata": {},
   "outputs": [
    {
     "name": "stdout",
     "output_type": "stream",
     "text": [
      "Columnas con NaN y su cantidad:\n",
      "scheme_name          28810\n",
      "construction_year    20709\n",
      "scheme_management     3878\n",
      "installer             3658\n",
      "funder                3637\n",
      "public_meeting        3334\n",
      "permit                3056\n",
      "subvillage             371\n",
      "wpt_name                 2\n",
      "dtype: int64\n"
     ]
    }
   ],
   "source": [
    "nan_cols = df_imp.isna().sum()\n",
    "nan_cols = nan_cols[nan_cols > 0].sort_values(ascending=False)\n",
    "\n",
    "print(\"Columnas con NaN y su cantidad:\")\n",
    "print(nan_cols)"
   ]
  },
  {
   "cell_type": "code",
   "execution_count": null,
   "id": "0e4516ca-d7ee-43ed-b160-b53170e92fdd",
   "metadata": {},
   "outputs": [],
   "source": [
    "# MISSING VALUES CONSTRUCTION YEARS\n",
    "#inicialmente intente imputar los missing values de año de construccion haciendo una media de la diferencia entre el año de revision y el año de \n",
    "# construccion de las bombas que si tenian esa info, pero se polarizaba enormemente el año 2010 pq la mayoria de las entradas eran de 2023"
   ]
  },
  {
   "cell_type": "code",
   "execution_count": null,
   "id": "c735bb4d-0dc3-4582-a10c-d47584372f7b",
   "metadata": {},
   "outputs": [],
   "source": [
    "#ahora voy a imputar or la media de año de cosntruccion del distrito de las bombas"
   ]
  },
  {
   "cell_type": "code",
   "execution_count": null,
   "id": "d3da35cb-30c4-4939-9d60-8e7194149cac",
   "metadata": {},
   "outputs": [],
   "source": [
    "#comprobamos distribucion de los años de construccion"
   ]
  },
  {
   "cell_type": "code",
   "execution_count": 59,
   "id": "8f014e8f-18e4-4066-bf77-03a955c7d6f3",
   "metadata": {},
   "outputs": [
    {
     "name": "stdout",
     "output_type": "stream",
     "text": [
      "Año mínimo: 1960.0\n",
      "Año máximo: 2013.0\n"
     ]
    },
    {
     "data": {
      "image/png": "[encoded data removed]",
      "text/plain": [
       "<Figure size 1000x500 with 1 Axes>"
      ]
     },
     "metadata": {},
     "output_type": "display_data"
    }
   ],
   "source": [
    "print(\"Año mínimo:\", df_imp['construction_year'].min())\n",
    "print(\"Año máximo:\", df_imp['construction_year'].max())\n",
    "\n",
    "df_imp['construction_year'].hist(bins=30, figsize=(10,5))\n",
    "plt.xlabel(\"Año de construcción\")\n",
    "plt.ylabel(\"Número de bombas\")\n",
    "plt.title(\"Distribución de años de construcción antes de imputar\")\n",
    "plt.show()"
   ]
  },
  {
   "cell_type": "code",
   "execution_count": 134,
   "id": "53dbf7b4-95e7-4226-bd71-3f6edd580ba6",
   "metadata": {},
   "outputs": [
    {
     "data": {
      "image/png": "[encoded data removed]",
      "text/plain": [
       "<Figure size 600x400 with 1 Axes>"
      ]
     },
     "metadata": {},
     "output_type": "display_data"
    },
    {
     "data": {
      "image/png": "[encoded data removed]",
      "text/plain": [
       "<Figure size 700x500 with 1 Axes>"
      ]
     },
     "metadata": {},
     "output_type": "display_data"
    }
   ],
   "source": [
    "\n",
    "# 1) Histograma de construction_year\n",
    "pd.to_numeric(df['construction_year'], errors='coerce').dropna().plot(\n",
    "    kind='hist', bins=30, edgecolor='black', figsize=(6,4)\n",
    ")\n",
    "plt.title('Distribución de construction_year')\n",
    "plt.xlabel('Año'); plt.ylabel('Frecuencia')\n",
    "plt.show()\n",
    "\n",
    "# 2) Boxplot de construction_year por status_group\n",
    "(df[['construction_year','status_group']]\n",
    " .assign(construction_year=pd.to_numeric(df['construction_year'], errors='coerce'))\n",
    " .dropna(subset=['construction_year'])\n",
    " .boxplot(column='construction_year', by='status_group', grid=False, showfliers=False, figsize=(7,5))\n",
    ")\n",
    "plt.title('construction_year por status_group'); plt.suptitle('')\n",
    "plt.xlabel('status_group'); plt.ylabel('Año')\n",
    "plt.show()\n",
    "\n"
   ]
  },
  {
   "cell_type": "code",
   "execution_count": 61,
   "id": "b3d00cab-06d3-4f11-b932-32aac3e007fd",
   "metadata": {},
   "outputs": [
    {
     "name": "stdout",
     "output_type": "stream",
     "text": [
      "NaN en construction_year: 0\n",
      "Total was_missing_year=True: 20709\n",
      "Rango construction_year: 1960 - 2013\n",
      "Mediana pump_age: 11.0\n",
      "0        12.0\n",
      "1         3.0\n",
      "2         4.0\n",
      "3        27.0\n",
      "4        11.0\n",
      "         ... \n",
      "59395    14.0\n",
      "59396    15.0\n",
      "59397     8.0\n",
      "59398    11.0\n",
      "59399     9.0\n",
      "Name: pump_age, Length: 59400, dtype: float64\n"
     ]
    }
   ],
   "source": [
    "#creamos base antes de nada para oder comparar\n",
    "df_imp2 = df_imp.copy()\n",
    "\n",
    "# Extraer el año de la fecha de registro\n",
    "df_imp2['date_recorded'] = pd.to_datetime(df_imp2['date_recorded'], errors='coerce')\n",
    "df_imp2['recorded_year'] = df_imp2['date_recorded'].dt.year\n",
    "\n",
    "# Creamos base binaria de si tenia el año de construccion o le faltaba\n",
    "df_imp2['was_missing_year'] = (df_imp2['construction_year'].isna()) | (df_imp2['construction_year'] == 0)\n",
    "\n",
    "# Sustituir 0 por NaN en construction_year\n",
    "df_imp2['construction_year'] = df_imp2['construction_year'].replace(0, np.nan)\n",
    "\n",
    "# --- Imputación con la mediana de cada distrito ---\n",
    "if 'district_code' in df_imp2.columns:\n",
    "    med_by_district = df_imp2.groupby('district_code')['construction_year'].transform('median')\n",
    "    df_imp2['construction_year'] = df_imp2['construction_year'].fillna(med_by_district)\n",
    "\n",
    "# Si aún queda algún NaN, rellenar con la mediana global\n",
    "df_imp2['construction_year'] = df_imp2['construction_year'].fillna(df_imp2['construction_year'].median())\n",
    "\n",
    "# Crear columna antigüedad de la bomba en el momento del checkeo\n",
    "df_imp2['pump_age'] = df_imp2['recorded_year'] - df_imp2['construction_year']\n",
    "\n",
    "# ---- Chequeos rápidos ----\n",
    "print(\"NaN en construction_year:\", df_imp2['construction_year'].isna().sum())\n",
    "print(\"Total was_missing_year=True:\", df_imp2['was_missing_year'].sum())\n",
    "print(\"Rango construction_year:\", int(df_imp2['construction_year'].min()), \"-\", int(df_imp['construction_year'].max()))\n",
    "print(\"Mediana pump_age:\", df_imp2['pump_age'].median())\n",
    "print(df_imp2['pump_age'])\n"
   ]
  },
  {
   "cell_type": "code",
   "execution_count": null,
   "id": "3b2b03a4-243a-45ef-b33f-901199969732",
   "metadata": {},
   "outputs": [],
   "source": [
    "#distribucion años de construccion despues de imputar y de \"pump age\""
   ]
  },
  {
   "cell_type": "code",
   "execution_count": 62,
   "id": "1866b791-e77d-4307-ab74-fd1597d78e42",
   "metadata": {},
   "outputs": [
    {
     "data": {
      "image/png": "[encoded data removed]",
      "text/plain": [
       "<Figure size 1600x600 with 2 Axes>"
      ]
     },
     "metadata": {},
     "output_type": "display_data"
    }
   ],
   "source": [
    "fig, axes = plt.subplots(1, 2, figsize=(16,6))\n",
    "\n",
    "# --- 1) Distribución de años de construcción ---\n",
    "df_imp2['construction_year'].hist(bins=40, color='steelblue', edgecolor='black', ax=axes[0])\n",
    "axes[0].set_title(\"Distribución de años de construcción\")\n",
    "axes[0].set_xlabel(\"Año de construcción\")\n",
    "axes[0].set_ylabel(\"Número de bombas\")\n",
    "\n",
    "# --- 2) Distribución de antigüedad ---\n",
    "df_imp2['pump_age'].hist(bins=40, color='teal', edgecolor='black', ax=axes[1])\n",
    "axes[1].set_title(\"Distribución de la antigüedad de las bombas (pump_age)\")\n",
    "axes[1].set_xlabel(\"Años de antigüedad\")\n",
    "axes[1].set_ylabel(\"Número de bombas\")\n",
    "\n",
    "plt.tight_layout()\n",
    "plt.show()"
   ]
  },
  {
   "cell_type": "markdown",
   "id": "3dd0ca3d-0eeb-41bd-aba2-c738c6f76489",
   "metadata": {},
   "source": [
    "# Este nuevo intento de imputar los Nan tambien polariza en exceso los resultados ya que casi todos recaen en la misma fecha, exactamente igual que con el intento anterior, dejamos de momento los Nan y vemos despues segun el modelo que vayamos a usar\n",
    "# de momento tenemos creada la columna pump_age y la binaria sobre si hay o no hay construcion_data"
   ]
  },
  {
   "cell_type": "code",
   "execution_count": null,
   "id": "93c2f63c-712b-40cd-bd45-1383268fd57c",
   "metadata": {},
   "outputs": [],
   "source": [
    "# scheme name y scheme management son iguales, vamos a compararlas para estar seguros de que lo son, y rellenar los huecos de la que le faltan \n",
    "### menos con la info de la otra si lo tiene o con la moda si no"
   ]
  },
  {
   "cell_type": "raw",
   "id": "b854717c-823d-46d8-beb9-6b05b196c1aa",
   "metadata": {},
   "source": [
    "# contamos valores no nulos"
   ]
  },
  {
   "cell_type": "code",
   "execution_count": 63,
   "id": "3b9031aa-7988-4244-a476-c7f2248f349d",
   "metadata": {},
   "outputs": [
    {
     "name": "stdout",
     "output_type": "stream",
     "text": [
      "Valores no nulos en scheme_name: 30590\n",
      "Valores no nulos en scheme_management: 55522\n"
     ]
    }
   ],
   "source": [
    "print(\"Valores no nulos en scheme_name:\", df_imp['scheme_name'].notna().sum())\n",
    "print(\"Valores no nulos en scheme_management:\", df_imp['scheme_management'].notna().sum())"
   ]
  },
  {
   "cell_type": "code",
   "execution_count": 71,
   "id": "5b5a8f51-face-4229-9fdc-ed274e79b6db",
   "metadata": {},
   "outputs": [
    {
     "name": "stdout",
     "output_type": "stream",
     "text": [
      "0                              Roman\n",
      "1                                NaN\n",
      "2        Nyumba ya mungu pipe scheme\n",
      "3                                NaN\n",
      "4                                NaN\n",
      "                    ...             \n",
      "59395         Losaa Kia water supply\n",
      "59396    Ikondo electrical water sch\n",
      "59397                            NaN\n",
      "59398                            NaN\n",
      "59399                            NaN\n",
      "Name: scheme_name, Length: 59400, dtype: object\n",
      "0                VWC\n",
      "1              Other\n",
      "2                VWC\n",
      "3                VWC\n",
      "4                NaN\n",
      "            ...     \n",
      "59395    Water Board\n",
      "59396            VWC\n",
      "59397            VWC\n",
      "59398            VWC\n",
      "59399            VWC\n",
      "Name: scheme_management, Length: 59400, dtype: object\n"
     ]
    }
   ],
   "source": [
    "print(df_imp['scheme_name'])\n",
    "print(df_imp['scheme_management'])\n",
    "      "
   ]
  },
  {
   "cell_type": "code",
   "execution_count": 67,
   "id": "1f57f930-9268-4114-b00c-d3c9d63cdd1e",
   "metadata": {},
   "outputs": [],
   "source": [
    "#en reaidad no son iguales pero vamos a quedarnos con scheme_management, rellenando los huevos con scheme_name,\n",
    "#ya que es la que tiene cardinalidad mas baja y mayor numero de datos validos, para realizar una diferenciacion \n",
    "#en este campo si es interesante para el modelo ya sera suficienta"
   ]
  },
  {
   "cell_type": "code",
   "execution_count": 72,
   "id": "30db1323-c91c-43f2-8a43-7619b251f726",
   "metadata": {},
   "outputs": [],
   "source": [
    "# rellenamos los huecos de scheme_management, con scheme_name\n",
    "\n",
    "df_imp['scheme_management'] = df_imp['scheme_management'].fillna(df_imp['scheme_name'])"
   ]
  },
  {
   "cell_type": "code",
   "execution_count": 74,
   "id": "cf5d31ed-fed4-4284-86de-079cf83e38de",
   "metadata": {},
   "outputs": [
    {
     "name": "stdout",
     "output_type": "stream",
     "text": [
      "3572\n"
     ]
    }
   ],
   "source": [
    "# comprobamos los Nan que quedan\n",
    "\n",
    "still_nan= df_imp['scheme_management'].isna().sum()\n",
    "print(still_nan)"
   ]
  },
  {
   "cell_type": "code",
   "execution_count": 75,
   "id": "666978c6-b501-4469-946b-cd34497cb044",
   "metadata": {},
   "outputs": [],
   "source": [
    "#rellenamos con la moda\n",
    "\n",
    "moda_sm = df_imp['scheme_management'].mode(dropna=True)[0]\n",
    "df_imp['scheme_management'] = df_imp['scheme_management'].fillna(moda_sm)"
   ]
  },
  {
   "cell_type": "code",
   "execution_count": 76,
   "id": "ad49298e-231e-4f93-aded-e07f24b29c53",
   "metadata": {},
   "outputs": [
    {
     "name": "stdout",
     "output_type": "stream",
     "text": [
      "0\n"
     ]
    }
   ],
   "source": [
    "still_nan= df_imp['scheme_management'].isna().sum()\n",
    "print(still_nan)"
   ]
  },
  {
   "cell_type": "code",
   "execution_count": 135,
   "id": "17ae89c3-2f23-4de0-9d2e-cb453c3cb5cc",
   "metadata": {},
   "outputs": [
    {
     "name": "stdout",
     "output_type": "stream",
     "text": [
      "0                vwc\n",
      "1              other\n",
      "2                vwc\n",
      "3                vwc\n",
      "4                vwc\n",
      "            ...     \n",
      "59395    water board\n",
      "59396            vwc\n",
      "59397            vwc\n",
      "59398            vwc\n",
      "59399            vwc\n",
      "Name: scheme_management, Length: 59400, dtype: object\n"
     ]
    }
   ],
   "source": [
    "#normalizamos columna\n",
    "\n",
    "def normalize_series(s):\n",
    "    s = s.astype(str).str.lower().str.strip()\n",
    "    s = s.str.replace(r'[^a-z0-9 ]', '', regex=True)   # quita símbolos\n",
    "    s = s.str.replace(r'\\s+', ' ', regex=True)         # colapsa espacios\n",
    "    s = s.replace({'nan': np.nan, 'none': np.nan, 'null': np.nan, '': np.nan, '0': np.nan})\n",
    "    return s\n",
    "\n",
    "df_imp['scheme_management'] = normalize_series(df_imp['scheme_management']).fillna('unknown')\n",
    "\n",
    "\n",
    "print(df_imp['scheme_management'])"
   ]
  },
  {
   "cell_type": "code",
   "execution_count": null,
   "id": "9f7ae6e9-ad69-4290-8ce8-33c4263144d9",
   "metadata": {},
   "outputs": [],
   "source": [
    "#agrupamos categorias raras en \"other\" para reducir cardinalidad"
   ]
  },
  {
   "cell_type": "code",
   "execution_count": 79,
   "id": "4e2af95c-0cf8-4bed-ba7b-44eb910d81ad",
   "metadata": {},
   "outputs": [],
   "source": [
    "# Frecuencia de cada categoría\n",
    "freq = df_imp['scheme_management'].value_counts()\n",
    "\n",
    "# Definir umbral\n",
    "umbral = 100\n",
    "categorias_comunes = freq[freq >= umbral].index\n",
    "\n",
    "# Reemplazar valores poco frecuentes por 'other'\n",
    "df_imp['scheme_management'] = df_imp['scheme_management'].apply(\n",
    "    lambda x: x if x in categorias_comunes else 'other')"
   ]
  },
  {
   "cell_type": "code",
   "execution_count": 82,
   "id": "c0dbfb3f-2791-4c80-bc9c-5008b4e75129",
   "metadata": {},
   "outputs": [
    {
     "name": "stdout",
     "output_type": "stream",
     "text": [
      "1241\n",
      "Index(['vwc', 'wug', 'water authority', 'wua', 'water board', 'parastatal',\n",
      "       'private operator', 'company', 'other'],\n",
      "      dtype='object', name='scheme_management')\n"
     ]
    }
   ],
   "source": [
    "otros = (df_imp['scheme_management'] == 'other').sum()\n",
    "print(otros)\n",
    "print(categorias_comunes)"
   ]
  },
  {
   "cell_type": "code",
   "execution_count": null,
   "id": "7e3617e6-029a-4245-9f47-8b7e384bcf38",
   "metadata": {},
   "outputs": [],
   "source": [
    "# en el caso de \"funder\" e \"installer\" es un poco lo mismo, vamos a elegir segun cardinalidad pq los missing son similares, \n",
    "#rellenar con la otra columna, normalizar y agrupar categorias"
   ]
  },
  {
   "cell_type": "code",
   "execution_count": 83,
   "id": "a9728932-898c-4071-b271-af8dca4e2065",
   "metadata": {},
   "outputs": [
    {
     "name": "stdout",
     "output_type": "stream",
     "text": [
      "Cardinalidad installer: 2144\n",
      "Cardinalidad funder: 1896\n"
     ]
    }
   ],
   "source": [
    "# 1. Cardinalidad\n",
    "card_installer = df_imp['installer'].nunique(dropna=True)\n",
    "card_funder = df_imp['funder'].nunique(dropna=True)\n",
    "\n",
    "print(f\"Cardinalidad installer: {card_installer}\")\n",
    "print(f\"Cardinalidad funder: {card_funder}\")"
   ]
  },
  {
   "cell_type": "code",
   "execution_count": null,
   "id": "5d4f78bc-7638-4533-b6fb-cbc10c7e4bc5",
   "metadata": {},
   "outputs": [],
   "source": [
    "# imputamos los huevos de Funder con Installer pq tiene menor cardinalidad"
   ]
  },
  {
   "cell_type": "code",
   "execution_count": 88,
   "id": "6cd19ca1-a032-436d-9910-ecbbd924014a",
   "metadata": {},
   "outputs": [
    {
     "name": "stdout",
     "output_type": "stream",
     "text": [
      "0\n"
     ]
    }
   ],
   "source": [
    "# 1. Definir columnas\n",
    "main_col = 'funder'\n",
    "aux_col = 'installer'\n",
    "\n",
    "# 2. Rellenar huecos\n",
    "df_imp[main_col] = df_imp[main_col].fillna(df_imp[aux_col])\n",
    "\n",
    "moda_mc = df_imp[main_col].mode(dropna=True)[0]\n",
    "df_imp[main_col] = df_imp[main_col].fillna(moda_mc)\n",
    "\n",
    "#comprovamos Nan\n",
    "\n",
    "still_nan= df_imp[main_col].isna().sum()\n",
    "print(still_nan)\n",
    "\n"
   ]
  },
  {
   "cell_type": "code",
   "execution_count": null,
   "id": "119f0e51-4f7c-4a9f-9281-00213ad4186b",
   "metadata": {},
   "outputs": [],
   "source": [
    "# normalizamos columna"
   ]
  },
  {
   "cell_type": "code",
   "execution_count": 89,
   "id": "747cd53c-1673-4562-89b8-39533bcd8086",
   "metadata": {},
   "outputs": [
    {
     "name": "stdout",
     "output_type": "stream",
     "text": [
      "0                  roman\n",
      "1                  other\n",
      "2                  other\n",
      "3                 unicef\n",
      "4                  other\n",
      "              ...       \n",
      "59395    germany republi\n",
      "59396              other\n",
      "59397                nan\n",
      "59398              other\n",
      "59399         world bank\n",
      "Name: funder, Length: 59400, dtype: object\n"
     ]
    }
   ],
   "source": [
    "df_imp[main_col] = normalize_series(df_imp[main_col])\n",
    "\n",
    "print(df_imp[main_col])"
   ]
  },
  {
   "cell_type": "code",
   "execution_count": 90,
   "id": "0b4418d7-5a35-4121-ac66-a350ad04b392",
   "metadata": {},
   "outputs": [
    {
     "name": "stdout",
     "output_type": "stream",
     "text": [
      "0\n"
     ]
    }
   ],
   "source": [
    "still_nan= df_imp[main_col].isna().sum()\n",
    "print(still_nan)"
   ]
  },
  {
   "cell_type": "code",
   "execution_count": 107,
   "id": "752261f6-2c80-4178-bcf4-d125e9d922f3",
   "metadata": {},
   "outputs": [
    {
     "name": "stdout",
     "output_type": "stream",
     "text": [
      "funder\n",
      "other                     26986\n",
      "government of tanzania     9084\n",
      "unknown                    4361\n",
      "danida                     3114\n",
      "hesawa                     2203\n",
      "rwssp                      1375\n",
      "world bank                 1349\n",
      "kkkt                       1287\n",
      "world vision               1247\n",
      "unicef                     1058\n",
      "tasaf                       877\n",
      "district council            843\n",
      "dhv                         829\n",
      "private individual          826\n",
      "dwsp                        811\n",
      "norad                       765\n",
      "germany republi             610\n",
      "tcrs                        602\n",
      "ministry of water           590\n",
      "water                       583\n",
      "Name: count, dtype: int64\n"
     ]
    },
    {
     "name": "stderr",
     "output_type": "stream",
     "text": [
      "C:\\Users\\sgalc\\AppData\\Local\\Temp\\ipykernel_15020\\1666474665.py:10: FutureWarning: A value is trying to be set on a copy of a DataFrame or Series through chained assignment using an inplace method.\n",
      "The behavior will change in pandas 3.0. This inplace method will never work because the intermediate object on which we are setting values always behaves as a copy.\n",
      "\n",
      "For example, when doing 'df[col].method(value, inplace=True)', try using 'df.method({col: value}, inplace=True)' or df[col] = df[col].method(value) instead, to perform the operation inplace on the original object.\n",
      "\n",
      "\n",
      "  df_imp['funder'].replace(['nan', 'none', 'null', '', '0'], np.nan, inplace=True)\n"
     ]
    }
   ],
   "source": [
    "\n",
    "# 1. Limpiar texto\n",
    "df_imp['funder'] = (df_imp['funder']\n",
    "    .astype(str)\n",
    "    .str.lower()\n",
    "    .str.strip()\n",
    "    .str.replace(r'[^a-z0-9 ]', '', regex=True)   \n",
    "    .str.replace(r'\\s+', ' ', regex=True))\n",
    "\n",
    "# 2. Convertir valores basura en NaN\n",
    "df_imp['funder'].replace(['nan', 'none', 'null', '', '0'], np.nan, inplace=True)\n",
    "\n",
    "# 3. Reemplazar NaN por 'unknown'\n",
    "df_imp['funder'].fillna('unknown', inplace=True)\n",
    "\n",
    "# 4. Agrupar categorías poco frecuentes en 'other'\n",
    "umbral = 500  # frecuencia mínima\n",
    "freq = df_imp['funder'].value_counts()\n",
    "categorias_comunes = freq[freq >= umbral].index\n",
    "\n",
    "df_imp.loc[~df_imp['funder'].isin(categorias_comunes), 'funder'] = 'other'\n",
    "\n",
    "print(df_imp['funder'].value_counts().head(20))"
   ]
  },
  {
   "cell_type": "code",
   "execution_count": null,
   "id": "cea6ddee-9698-4668-8b9f-80363f182d4f",
   "metadata": {},
   "outputs": [],
   "source": [
    "#volvemos a comprobar Nan"
   ]
  },
  {
   "cell_type": "code",
   "execution_count": 108,
   "id": "2c1bc11f-7aef-4c81-b6fa-cfad1d07bbbd",
   "metadata": {},
   "outputs": [
    {
     "name": "stdout",
     "output_type": "stream",
     "text": [
      "Columnas con NaN y su cantidad:\n",
      "scheme_name          28810\n",
      "construction_year    20709\n",
      "installer             3658\n",
      "public_meeting        3334\n",
      "permit                3056\n",
      "subvillage             371\n",
      "wpt_name                 2\n",
      "dtype: int64\n"
     ]
    }
   ],
   "source": [
    "nan_cols = df_imp.isna().sum()\n",
    "nan_cols = nan_cols[nan_cols > 0].sort_values(ascending=False)\n",
    "\n",
    "print(\"Columnas con NaN y su cantidad:\")\n",
    "print(nan_cols)"
   ]
  },
  {
   "cell_type": "code",
   "execution_count": 110,
   "id": "79a19955-be00-4a8f-afa8-e950641568f9",
   "metadata": {},
   "outputs": [],
   "source": [
    "# public_meeting y permit → binario con -1 como \"desconocido\"\n",
    "for col in ['public_meeting', 'permit']:\n",
    "    df_imp[col] = df_imp[col].map({True: 1, False: 0})\n",
    "    df_imp[col] = df_imp[col].fillna(-1)\n",
    "\n",
    "# subvillage y wpt_name → texto limpio, rarezas → \"other\", nulos → \"unknown\"\n",
    "for col, umbral in [('subvillage', 200), ('wpt_name', 50)]:\n",
    "    df_imp[col] = df_imp[col].astype(str).str.lower().str.strip()\n",
    "    df_imp[col] = df_imp[col].replace(['nan', 'none', 'null', '', '0'], np.nan)\n",
    "    df_imp[col] = df_imp[col].fillna('unknown')\n",
    "\n",
    "    # agrupar categorías poco frecuentes\n",
    "    freq = df_imp[col].value_counts()\n",
    "    comunes = freq[freq >= umbral].index\n",
    "    df_imp.loc[~df_imp[col].isin(comunes), col] = 'other'"
   ]
  },
  {
   "cell_type": "code",
   "execution_count": 111,
   "id": "1f96c994-f666-4d25-8d47-c7ce53b0248c",
   "metadata": {},
   "outputs": [
    {
     "name": "stdout",
     "output_type": "stream",
     "text": [
      "Columnas con NaN y su cantidad:\n",
      "scheme_name          28810\n",
      "construction_year    20709\n",
      "installer             3658\n",
      "dtype: int64\n"
     ]
    }
   ],
   "source": [
    "nan_cols = df_imp.isna().sum()\n",
    "nan_cols = nan_cols[nan_cols > 0].sort_values(ascending=False)\n",
    "\n",
    "print(\"Columnas con NaN y su cantidad:\")\n",
    "print(nan_cols)"
   ]
  },
  {
   "cell_type": "code",
   "execution_count": null,
   "id": "8411854b-ecd6-4d11-9151-f7eaba14b4d8",
   "metadata": {},
   "outputs": [],
   "source": [
    "#solo quedaba por decidir que hacer con construction year, dado que hay muchos valores desconocidos y todo lo que hemos intentado \n",
    "#polariza muchisimo los resultados (media, mediana, calculos con la fecha que se reviso..)\n",
    "#VOY A CATEGORIZARLA EN MUY VIEJA, VIEJA, RECIENTE MUY RECIENTE Y DESCONOCIDO"
   ]
  },
  {
   "cell_type": "code",
   "execution_count": null,
   "id": "124580b2-c726-4d05-ae41-84cfd7ce313b",
   "metadata": {},
   "outputs": [],
   "source": []
  },
  {
   "cell_type": "code",
   "execution_count": 112,
   "id": "957ad69d-0d35-4ee9-9a4d-9e9b3491d28f",
   "metadata": {},
   "outputs": [
    {
     "name": "stdout",
     "output_type": "stream",
     "text": [
      "construction_year_cat\n",
      "reciente        23008\n",
      "unknown         20709\n",
      "vieja            9984\n",
      "muy_reciente     5161\n",
      "muy_vieja         538\n",
      "Name: count, dtype: int64\n"
     ]
    }
   ],
   "source": [
    "def categorizar_construction_year(x):\n",
    "    if pd.isna(x) or x == 0:\n",
    "        return 'unknown'\n",
    "    elif x < 1970:\n",
    "        return 'muy_vieja'\n",
    "    elif x < 1990:\n",
    "        return 'vieja'\n",
    "    elif x < 2010:\n",
    "        return 'reciente'\n",
    "    else:\n",
    "        return 'muy_reciente'\n",
    "\n",
    "df_imp['construction_year_cat'] = df_imp['construction_year'].apply(categorizar_construction_year)\n",
    "\n",
    "# Ver distribución\n",
    "print(df_imp['construction_year_cat'].value_counts())"
   ]
  },
  {
   "cell_type": "code",
   "execution_count": null,
   "id": "9344cccf-3237-4af6-9ba3-f87bc88a3982",
   "metadata": {},
   "outputs": [],
   "source": [
    "#hacemos un apartado con las columnas descartadas de momento y una con todas las que si vamos a usar y que ya han sido limpiadas\n",
    "#retiramos columnas redundantes y columnas con elevada cardinalidad que no aportan info real sobre la bomba "
   ]
  },
  {
   "cell_type": "code",
   "execution_count": 147,
   "id": "dc0426c9-01c3-4aed-bf69-39b4335cb28e",
   "metadata": {},
   "outputs": [
    {
     "name": "stdout",
     "output_type": "stream",
     "text": [
      "Columnas finales: ['id', 'amount_tsh', 'date_recorded', 'funder', 'gps_height', 'district_code', 'population', 'scheme_management', 'permit', 'construction_year', 'extraction_type', 'extraction_type_group', 'extraction_type_class', 'payment_type', 'quality_group', 'quantity_group', 'source_class', 'waterpoint_type_group', 'status_group', 'construction_year_cat']\n",
      "Columnas guardadas aparte: ['scheme_name', 'installer', 'wpt_name', 'num_private', 'subvillage', 'region_code', 'public_meeting', 'recorded_by', 'region', 'basin', 'lga', 'payment', 'water_quality', 'quantity', 'source', 'source_type', 'waterpoint_type', 'ward', 'management', 'management_group', 'longitude', 'latitude']\n"
     ]
    },
    {
     "data": {
      "text/html": [
       "<div>\n",
       "<style scoped>\n",
       "    .dataframe tbody tr th:only-of-type {\n",
       "        vertical-align: middle;\n",
       "    }\n",
       "\n",
       "    .dataframe tbody tr th {\n",
       "        vertical-align: top;\n",
       "    }\n",
       "\n",
       "    .dataframe thead th {\n",
       "        text-align: right;\n",
       "    }\n",
       "</style>\n",
       "<table border=\"1\" class=\"dataframe\">\n",
       "  <thead>\n",
       "    <tr style=\"text-align: right;\">\n",
       "      <th></th>\n",
       "      <th>id</th>\n",
       "      <th>amount_tsh</th>\n",
       "      <th>date_recorded</th>\n",
       "      <th>funder</th>\n",
       "      <th>gps_height</th>\n",
       "      <th>district_code</th>\n",
       "      <th>population</th>\n",
       "      <th>scheme_management</th>\n",
       "      <th>permit</th>\n",
       "      <th>construction_year</th>\n",
       "      <th>extraction_type</th>\n",
       "      <th>extraction_type_group</th>\n",
       "      <th>extraction_type_class</th>\n",
       "      <th>payment_type</th>\n",
       "      <th>quality_group</th>\n",
       "      <th>quantity_group</th>\n",
       "      <th>source_class</th>\n",
       "      <th>waterpoint_type_group</th>\n",
       "      <th>status_group</th>\n",
       "      <th>construction_year_cat</th>\n",
       "    </tr>\n",
       "  </thead>\n",
       "  <tbody>\n",
       "    <tr>\n",
       "      <th>0</th>\n",
       "      <td>69572</td>\n",
       "      <td>6000.0</td>\n",
       "      <td>2011-03-14</td>\n",
       "      <td>other</td>\n",
       "      <td>1390.000000</td>\n",
       "      <td>5</td>\n",
       "      <td>109</td>\n",
       "      <td>vwc</td>\n",
       "      <td>-1.0</td>\n",
       "      <td>1999.0</td>\n",
       "      <td>gravity</td>\n",
       "      <td>gravity</td>\n",
       "      <td>gravity</td>\n",
       "      <td>annually</td>\n",
       "      <td>good</td>\n",
       "      <td>enough</td>\n",
       "      <td>groundwater</td>\n",
       "      <td>communal standpipe</td>\n",
       "      <td>functional</td>\n",
       "      <td>reciente</td>\n",
       "    </tr>\n",
       "    <tr>\n",
       "      <th>1</th>\n",
       "      <td>8776</td>\n",
       "      <td>0.0</td>\n",
       "      <td>2013-03-06</td>\n",
       "      <td>other</td>\n",
       "      <td>1399.000000</td>\n",
       "      <td>2</td>\n",
       "      <td>280</td>\n",
       "      <td>other</td>\n",
       "      <td>-1.0</td>\n",
       "      <td>2010.0</td>\n",
       "      <td>gravity</td>\n",
       "      <td>gravity</td>\n",
       "      <td>gravity</td>\n",
       "      <td>never pay</td>\n",
       "      <td>good</td>\n",
       "      <td>insufficient</td>\n",
       "      <td>surface</td>\n",
       "      <td>communal standpipe</td>\n",
       "      <td>functional</td>\n",
       "      <td>muy_reciente</td>\n",
       "    </tr>\n",
       "    <tr>\n",
       "      <th>2</th>\n",
       "      <td>34310</td>\n",
       "      <td>25.0</td>\n",
       "      <td>2013-02-25</td>\n",
       "      <td>other</td>\n",
       "      <td>686.000000</td>\n",
       "      <td>4</td>\n",
       "      <td>250</td>\n",
       "      <td>vwc</td>\n",
       "      <td>-1.0</td>\n",
       "      <td>2009.0</td>\n",
       "      <td>gravity</td>\n",
       "      <td>gravity</td>\n",
       "      <td>gravity</td>\n",
       "      <td>per bucket</td>\n",
       "      <td>good</td>\n",
       "      <td>enough</td>\n",
       "      <td>surface</td>\n",
       "      <td>communal standpipe</td>\n",
       "      <td>functional</td>\n",
       "      <td>reciente</td>\n",
       "    </tr>\n",
       "    <tr>\n",
       "      <th>3</th>\n",
       "      <td>67743</td>\n",
       "      <td>0.0</td>\n",
       "      <td>2013-01-28</td>\n",
       "      <td>unicef</td>\n",
       "      <td>263.000000</td>\n",
       "      <td>63</td>\n",
       "      <td>58</td>\n",
       "      <td>vwc</td>\n",
       "      <td>-1.0</td>\n",
       "      <td>1986.0</td>\n",
       "      <td>submersible</td>\n",
       "      <td>submersible</td>\n",
       "      <td>submersible</td>\n",
       "      <td>never pay</td>\n",
       "      <td>good</td>\n",
       "      <td>dry</td>\n",
       "      <td>groundwater</td>\n",
       "      <td>communal standpipe</td>\n",
       "      <td>non functional</td>\n",
       "      <td>vieja</td>\n",
       "    </tr>\n",
       "    <tr>\n",
       "      <th>4</th>\n",
       "      <td>19728</td>\n",
       "      <td>0.0</td>\n",
       "      <td>2011-07-13</td>\n",
       "      <td>other</td>\n",
       "      <td>998.432498</td>\n",
       "      <td>1</td>\n",
       "      <td>0</td>\n",
       "      <td>vwc</td>\n",
       "      <td>-1.0</td>\n",
       "      <td>NaN</td>\n",
       "      <td>gravity</td>\n",
       "      <td>gravity</td>\n",
       "      <td>gravity</td>\n",
       "      <td>never pay</td>\n",
       "      <td>good</td>\n",
       "      <td>seasonal</td>\n",
       "      <td>surface</td>\n",
       "      <td>communal standpipe</td>\n",
       "      <td>functional</td>\n",
       "      <td>unknown</td>\n",
       "    </tr>\n",
       "  </tbody>\n",
       "</table>\n",
       "</div>"
      ],
      "text/plain": [
       "      id  amount_tsh date_recorded  funder   gps_height  district_code  \\\n",
       "0  69572      6000.0    2011-03-14   other  1390.000000              5   \n",
       "1   8776         0.0    2013-03-06   other  1399.000000              2   \n",
       "2  34310        25.0    2013-02-25   other   686.000000              4   \n",
       "3  67743         0.0    2013-01-28  unicef   263.000000             63   \n",
       "4  19728         0.0    2011-07-13   other   998.432498              1   \n",
       "\n",
       "   population scheme_management  permit  construction_year extraction_type  \\\n",
       "0         109               vwc    -1.0             1999.0         gravity   \n",
       "1         280             other    -1.0             2010.0         gravity   \n",
       "2         250               vwc    -1.0             2009.0         gravity   \n",
       "3          58               vwc    -1.0             1986.0     submersible   \n",
       "4           0               vwc    -1.0                NaN         gravity   \n",
       "\n",
       "  extraction_type_group extraction_type_class payment_type quality_group  \\\n",
       "0               gravity               gravity     annually          good   \n",
       "1               gravity               gravity    never pay          good   \n",
       "2               gravity               gravity   per bucket          good   \n",
       "3           submersible           submersible    never pay          good   \n",
       "4               gravity               gravity    never pay          good   \n",
       "\n",
       "  quantity_group source_class waterpoint_type_group    status_group  \\\n",
       "0         enough  groundwater    communal standpipe      functional   \n",
       "1   insufficient      surface    communal standpipe      functional   \n",
       "2         enough      surface    communal standpipe      functional   \n",
       "3            dry  groundwater    communal standpipe  non functional   \n",
       "4       seasonal      surface    communal standpipe      functional   \n",
       "\n",
       "  construction_year_cat  \n",
       "0              reciente  \n",
       "1          muy_reciente  \n",
       "2              reciente  \n",
       "3                 vieja  \n",
       "4               unknown  "
      ]
     },
     "execution_count": 147,
     "metadata": {},
     "output_type": "execute_result"
    }
   ],
   "source": [
    "cols_descartadas = ['scheme_name', 'installer', 'wpt_name','num_private','subvillage', 'region_code','public_meeting',\n",
    "                    'recorded_by','region','basin','lga','payment','water_quality','quantity','source', 'source_type','waterpoint_type','ward',\n",
    "                    'management','management_group', 'longitude', 'latitude',]\n",
    "df_removed = df_imp[cols_descartadas].copy()\n",
    "df_final = df_imp.drop(columns=cols_descartadas)\n",
    "print(\"Columnas finales:\", df_final.columns.tolist())\n",
    "print(\"Columnas guardadas aparte:\", df_removed.columns.tolist())\n",
    "df_final.head()\n"
   ]
  },
  {
   "cell_type": "code",
   "execution_count": null,
   "id": "f316a08f-fb99-49ef-bdc6-bb0f226436b6",
   "metadata": {},
   "outputs": [],
   "source": [
    "#comprobamos variables y shap de la base de datos limpia antes del train"
   ]
  },
  {
   "cell_type": "code",
   "execution_count": 157,
   "id": "ddc8b340-cc5e-4a2b-8bd9-6efb95b1892b",
   "metadata": {},
   "outputs": [
    {
     "name": "stdout",
     "output_type": "stream",
     "text": [
      "X shape: (59400, 20)\n",
      "Numéricas: 9  | Categóricas: 11\n"
     ]
    }
   ],
   "source": [
    "import pandas as pd\n",
    "from sklearn.compose import ColumnTransformer\n",
    "from sklearn.preprocessing import OneHotEncoder\n",
    "from sklearn.impute import SimpleImputer\n",
    "from sklearn.pipeline import Pipeline\n",
    "\n",
    "# Usamos tu training limpio con la etiqueta\n",
    "df = df_final.copy()\n",
    "\n",
    "# 1) Derivar año/mes de la fecha y quitar la fecha cruda\n",
    "if 'date_recorded' in df.columns:\n",
    "    df['date_recorded'] = pd.to_datetime(df['date_recorded'], errors='coerce')\n",
    "    df['year_recorded']  = df['date_recorded'].dt.year\n",
    "    df['month_recorded'] = df['date_recorded'].dt.month\n",
    "    df = df.drop(columns=['date_recorded'])\n",
    "\n",
    "# 2) Separar variables y target\n",
    "y = df['status_group']\n",
    "X = df.drop(columns=['status_group'])\n",
    "\n",
    "# 3) Detectar variales numéricas y categóricas\n",
    "num_cols = [c for c in X.columns if pd.api.types.is_numeric_dtype(X[c])]\n",
    "cat_cols = [c for c in X.columns if c not in num_cols]\n",
    "\n",
    "# 4) Preprocesador (imputación + OneHot para categóricas)\n",
    "pre = ColumnTransformer(\n",
    "    transformers=[\n",
    "        ('num', SimpleImputer(strategy='median'), num_cols),\n",
    "        ('cat', Pipeline(steps=[\n",
    "            ('imp', SimpleImputer(strategy='most_frequent')),\n",
    "            ('ohe', OneHotEncoder(handle_unknown='ignore'))]), cat_cols),],remainder='drop')\n",
    "\n",
    "print(\"X shape:\", X.shape)\n",
    "print(\"Numéricas:\", len(num_cols), \" | Categóricas:\", len(cat_cols))"
   ]
  },
  {
   "cell_type": "code",
   "execution_count": null,
   "id": "1b4025d3-8c5e-4b54-aa24-ff613f49b296",
   "metadata": {},
   "outputs": [],
   "source": [
    "# TRAIN RANDOM FOREST, dado que tenemos variables categoricas y numerias y cardinalidad tirando a alt"
   ]
  },
  {
   "cell_type": "code",
   "execution_count": 158,
   "id": "c75c488d-3c22-4215-be7b-df893e247e76",
   "metadata": {},
   "outputs": [
    {
     "name": "stdout",
     "output_type": "stream",
     "text": [
      "Accuracy: 0.7785\n",
      "F1 macro: 0.6438\n",
      "F1 weighted: 0.7715\n",
      "\n",
      "Classification report:\n",
      "                          precision    recall  f1-score   support\n",
      "\n",
      "             functional       0.79      0.86      0.82      6452\n",
      "functional needs repair       0.42      0.27      0.33       863\n",
      "         non functional       0.80      0.76      0.78      4565\n",
      "\n",
      "               accuracy                           0.78     11880\n",
      "              macro avg       0.67      0.63      0.64     11880\n",
      "           weighted avg       0.77      0.78      0.77     11880\n",
      "\n"
     ]
    },
    {
     "data": {
      "text/plain": [
       "<Figure size 600x500 with 0 Axes>"
      ]
     },
     "metadata": {},
     "output_type": "display_data"
    },
    {
     "data": {
      "image/png": "[encoded data removed]",
      "text/plain": [
       "<Figure size 640x480 with 2 Axes>"
      ]
     },
     "metadata": {},
     "output_type": "display_data"
    }
   ],
   "source": [
    "from sklearn.pipeline import Pipeline\n",
    "from sklearn.ensemble import RandomForestClassifier\n",
    "from sklearn.model_selection import train_test_split\n",
    "from sklearn.metrics import accuracy_score, f1_score, classification_report, ConfusionMatrixDisplay\n",
    "import matplotlib.pyplot as plt\n",
    "\n",
    "# Split estratificado\n",
    "X_tr, X_te, y_tr, y_te = train_test_split(\n",
    "    X, y, test_size=0.20, random_state=42, stratify=y)\n",
    "\n",
    "# Pipeline (preprocesador 'pre' ya definido en el paso anterior)\n",
    "clf = Pipeline(steps=[\n",
    "    ('prep', pre),\n",
    "    ('model', RandomForestClassifier(\n",
    "        n_estimators=400,\n",
    "        random_state=42,\n",
    "        n_jobs=-1,\n",
    "        class_weight='balanced_subsample' ))])\n",
    "\n",
    "# Entrenar\n",
    "clf.fit(X_tr, y_tr)\n",
    "\n",
    "# Predicción y métricas\n",
    "y_pred = clf.predict(X_te)\n",
    "print(\"Accuracy:\", round(accuracy_score(y_te, y_pred), 4))\n",
    "print(\"F1 macro:\", round(f1_score(y_te, y_pred, average='macro'), 4))\n",
    "print(\"F1 weighted:\", round(f1_score(y_te, y_pred, average='weighted'), 4))\n",
    "print(\"\\nClassification report:\\n\", classification_report(y_te, y_pred))\n",
    "# Matriz de confusión\n",
    "plt.figure(figsize=(6,5))\n",
    "ConfusionMatrixDisplay.from_predictions(y_te, y_pred)\n",
    "plt.title(\"Matriz de confusión — RandomForest\")\n",
    "plt.tight_layout()\n",
    "plt.show()"
   ]
  },
  {
   "cell_type": "code",
   "execution_count": null,
   "id": "71610de7-1aee-40b0-9f82-3ac0dd5ecb59",
   "metadata": {},
   "outputs": [],
   "source": [
    "#El modelo acierta bien en functional y non functional.\n",
    "\n",
    "#Falla en needs repair (recall 0.27): muchos casos que necesitan reparación están siendo clasificados como otra cosa, functional ppalmente.\n",
    "\n",
    "#F1 macro es más bajo que accuracy porque penaliza este mal desempeño en la clase minoritaria"
   ]
  },
  {
   "cell_type": "code",
   "execution_count": null,
   "id": "73edad40-9e7a-4de2-8ffc-9871b0499bda",
   "metadata": {},
   "outputs": [],
   "source": [
    "###### AUMENTAMOS EL TAMAÑO DEL BOSQUE A 500, esperamos más de estabilidad (menos varianza) y a lo mejor mejor accuracy,\n",
    "# No cambiamos el preprocesado ni añadimos regularización extra##########"
   ]
  },
  {
   "cell_type": "code",
   "execution_count": 159,
   "id": "8f48df94-44fd-495b-b5f6-b226fcb13e49",
   "metadata": {},
   "outputs": [
    {
     "name": "stdout",
     "output_type": "stream",
     "text": [
      "Accuracy: 0.7795\n",
      "F1 macro: 0.6462\n",
      "\n",
      "Reporte (predicción normal):\n",
      "                          precision    recall  f1-score   support\n",
      "\n",
      "             functional       0.79      0.86      0.82      6452\n",
      "functional needs repair       0.42      0.27      0.33       863\n",
      "         non functional       0.80      0.77      0.78      4565\n",
      "\n",
      "               accuracy                           0.78     11880\n",
      "              macro avg       0.67      0.63      0.65     11880\n",
      "           weighted avg       0.77      0.78      0.77     11880\n",
      "\n"
     ]
    }
   ],
   "source": [
    "\n",
    "\n",
    "clf = Pipeline([\n",
    "    ('prep', pre),  \n",
    "    ('model', RandomForestClassifier(\n",
    "        n_estimators=500,\n",
    "        random_state=42,\n",
    "        n_jobs=-1,\n",
    "        class_weight='balanced_subsample'))])\n",
    "\n",
    "clf.fit(X_tr, y_tr)\n",
    "\n",
    "y_pred = clf.predict(X_te)\n",
    "print(f\"Accuracy: {accuracy_score(y_te, y_pred):.4f}\")\n",
    "print(f\"F1 macro: {f1_score(y_te, y_pred, average='macro'):.4f}\")\n",
    "print(\"\\nReporte (predicción normal):\\n\", classification_report(y_te, y_pred))"
   ]
  },
  {
   "cell_type": "code",
   "execution_count": null,
   "id": "a4898ff4-313a-4af5-9120-9d4c9cfe97a6",
   "metadata": {},
   "outputs": [],
   "source": [
    "###Subimos RECALL de \"needs repair\""
   ]
  },
  {
   "cell_type": "code",
   "execution_count": 160,
   "id": "008d94a9-7cb4-418b-b4ea-77dc6678a9f0",
   "metadata": {},
   "outputs": [
    {
     "name": "stdout",
     "output_type": "stream",
     "text": [
      "\n",
      "Reporte con umbral t=0.30 para 'needs repair':\n",
      "                          precision    recall  f1-score   support\n",
      "\n",
      "             functional       0.80      0.83      0.81      6452\n",
      "functional needs repair       0.38      0.37      0.37       863\n",
      "         non functional       0.81      0.76      0.78      4565\n",
      "\n",
      "               accuracy                           0.77     11880\n",
      "              macro avg       0.66      0.65      0.66     11880\n",
      "           weighted avg       0.77      0.77      0.77     11880\n",
      "\n"
     ]
    }
   ],
   "source": [
    "proba  = clf.predict_proba(X_te)\n",
    "labels = clf.named_steps['model'].classes_.tolist()\n",
    "idx_nr = labels.index('functional needs repair')\n",
    "\n",
    "t = 0.30  # ajusta entre 0.25–0.35 si quieres\n",
    "argmax_labels = np.array(labels, dtype=object)[proba.argmax(axis=1)]\n",
    "\n",
    "y_pred_thr = argmax_labels.copy()\n",
    "y_pred_thr[proba[:, idx_nr] >= t] = 'functional needs repair'\n",
    "\n",
    "print(f\"\\nReporte con umbral t={t:.2f} para 'needs repair':\\n\",\n",
    "      classification_report(y_te, y_pred_thr))"
   ]
  },
  {
   "cell_type": "code",
   "execution_count": null,
   "id": "86c466ce-7a68-4de2-a035-42dd5520b0f6",
   "metadata": {},
   "outputs": [],
   "source": [
    "### Probamos varios umbrales y elegimos el mejor #####"
   ]
  },
  {
   "cell_type": "code",
   "execution_count": 161,
   "id": "9df6b061-7e21-406b-86ec-e50cdb183698",
   "metadata": {},
   "outputs": [
    {
     "name": "stdout",
     "output_type": "stream",
     "text": [
      "   t  f1_macro    f1_nr\n",
      "0.22  0.658610 0.387635\n",
      "0.20  0.655600 0.383754\n",
      "0.26  0.658873 0.382749\n",
      "0.24  0.657680 0.382139\n",
      "0.28  0.657606 0.376975\n",
      "0.30  0.656063 0.371412\n",
      "0.32  0.655602 0.367718\n",
      "0.34  0.655332 0.364096\n",
      "0.36  0.654589 0.359477\n",
      "0.38  0.653929 0.356237\n",
      "0.40  0.650385 0.345528\n",
      "Mejor t por F1 de 'needs repair': 0.22\n"
     ]
    }
   ],
   "source": [
    "proba  = clf.predict_proba(X_te)\n",
    "labels = clf.named_steps['model'].classes_.tolist()\n",
    "idx_nr = labels.index('functional needs repair')\n",
    "\n",
    "def predict_with_t(proba, idx, t, labels):\n",
    "    arg = proba.argmax(axis=1)\n",
    "    out = np.array(labels, dtype=object)[arg]\n",
    "    out[proba[:, idx] >= t] = 'functional needs repair'\n",
    "    return out\n",
    "\n",
    "cand = np.arange(0.20, 0.41, 0.02)  \n",
    "rows = []\n",
    "for t in cand:\n",
    "    y_hat = predict_with_t(proba, idx_nr, t, labels)\n",
    "    rows.append({'t': t, 'f1_macro': f1_score(y_te, y_hat, average='macro'),\n",
    "                      'f1_nr':    f1_score(y_te, y_hat, labels=['functional needs repair'], average='macro')})\n",
    "scores = pd.DataFrame(rows).sort_values(['f1_nr','f1_macro'], ascending=False)\n",
    "print(scores.to_string(index=False))\n",
    "best_t = float(scores.iloc[0]['t'])\n",
    "print(\"Mejor t por F1 de 'needs repair':\", best_t)"
   ]
  },
  {
   "cell_type": "code",
   "execution_count": null,
   "id": "a0ad8026-ada9-4758-a772-1c0e87091293",
   "metadata": {},
   "outputs": [],
   "source": [
    "#Reentrenar el pipeline completo con TODO el training y t = 0.22 y sin 'id' pq me daba error\n",
    "#introduzco \"construction_year\" ademas de 'contruction_year_cat' (categorizada)"
   ]
  },
  {
   "cell_type": "code",
   "execution_count": 163,
   "id": "303aefec-929c-4c6e-a47f-9e95f8d005a0",
   "metadata": {},
   "outputs": [
    {
     "name": "stdout",
     "output_type": "stream",
     "text": [
      "OK: modelo entrenado con 8 num y 11 cat.\n"
     ]
    }
   ],
   "source": [
    "df_all = df_final.copy()\n",
    "\n",
    "# construction_year numérico (0 -> NaN)\n",
    "df_all['construction_year'] = pd.to_numeric(df_all['construction_year'], errors='coerce').replace(0, np.nan)\n",
    "\n",
    "# year/month de date_recorded \n",
    "if 'date_recorded' in df_all.columns:\n",
    "    df_all['date_recorded'] = pd.to_datetime(df_all['date_recorded'], errors='coerce')\n",
    "    df_all['year_recorded']  = df_all['date_recorded'].dt.year\n",
    "    df_all['month_recorded'] = df_all['date_recorded'].dt.month\n",
    "    df_all = df_all.drop(columns=['date_recorded'])\n",
    "\n",
    "# 2) y / X sin 'status_group' ni 'id'\n",
    "y = df_all['status_group']\n",
    "X = df_all.drop(columns=['status_group', 'id'], errors='ignore')\n",
    "\n",
    "# 3) RECONSTRUIR pre y clf con estas columnas\n",
    "num_cols = [c for c in X.columns if pd.api.types.is_numeric_dtype(X[c])]\n",
    "cat_cols = [c for c in X.columns if c not in num_cols]\n",
    "\n",
    "pre = ColumnTransformer(\n",
    "    transformers=[\n",
    "        ('num', SimpleImputer(strategy='median'), num_cols),\n",
    "        ('cat', Pipeline(steps=[\n",
    "            ('imp', SimpleImputer(strategy='most_frequent')),\n",
    "            ('ohe', OneHotEncoder(handle_unknown='ignore'))\n",
    "        ]), cat_cols),\n",
    "    ],\n",
    "    remainder='drop'\n",
    ")\n",
    "\n",
    "clf = Pipeline(steps=[\n",
    "    ('prep', pre),\n",
    "    ('model', RandomForestClassifier(\n",
    "        n_estimators=500,\n",
    "        random_state=42,\n",
    "        n_jobs=-1,\n",
    "        class_weight='balanced_subsample'\n",
    "    ))\n",
    "])\n",
    "\n",
    "# 4) Entrenar\n",
    "clf.fit(X, y)\n",
    "\n",
    "print(\"OK: modelo entrenado con\", len(num_cols), \"num y\", len(cat_cols), \"cat.\")"
   ]
  },
  {
   "cell_type": "code",
   "execution_count": 164,
   "id": "b76fd64f-8660-4740-bc83-7f8312bfe0c4",
   "metadata": {},
   "outputs": [],
   "source": [
    "# 1) columnas usadas en el fit \n",
    "feature_cols = X.columns.tolist()\n",
    "\n"
   ]
  },
  {
   "cell_type": "code",
   "execution_count": 165,
   "id": "17c93c69-ef91-41a2-abc9-c79be0db2d4c",
   "metadata": {},
   "outputs": [],
   "source": [
    "# 2) cargar test limpio con id\n",
    "base = Path(r\"C:\\Users\\sgalc\\OneDrive\\Escritorio\\Proyectos y documentos - Data Analist and BI\\entorno_python\\env_ML\\data base\")\n",
    "test = pd.read_csv(base / \"test_final_con_id.csv\")\n",
    "id_test = test['id'].copy()\n",
    "X_test  = test.drop(columns=['id']).copy()"
   ]
  },
  {
   "cell_type": "code",
   "execution_count": 166,
   "id": "7e3737bb-335d-4334-8fd8-934f9cb049be",
   "metadata": {},
   "outputs": [],
   "source": [
    "# 3) derivar year/month SOLO si existe date_recorded\n",
    "if 'date_recorded' in X_test.columns:\n",
    "    X_test['date_recorded'] = pd.to_datetime(X_test['date_recorded'], errors='coerce')\n",
    "    X_test['year_recorded']  = X_test['date_recorded'].dt.year\n",
    "    X_test['month_recorded'] = X_test['date_recorded'].dt.month\n",
    "    X_test = X_test.drop(columns=['date_recorded'])"
   ]
  },
  {
   "cell_type": "code",
   "execution_count": 167,
   "id": "58f3db39-2207-415f-a3bc-be93c4c51880",
   "metadata": {},
   "outputs": [],
   "source": [
    "\n",
    "# 4) alinear exactamente las columnas del fit\n",
    "X_test = X_test.reindex(columns=feature_cols, fill_value=np.nan)"
   ]
  },
  {
   "cell_type": "code",
   "execution_count": 169,
   "id": "c3e40fc7-84b3-4ab9-b524-66ddc89492c2",
   "metadata": {},
   "outputs": [],
   "source": [
    "# 5) predicción con umbral t=0.22 para \"functional needs repair\"\n",
    "t = 0.22\n",
    "proba  = clf.predict_proba(X_test)\n",
    "labels = clf.named_steps['model'].classes_.tolist()\n",
    "idx_nr = labels.index('functional needs repair')\n",
    "\n",
    "argmax_labels = np.array(labels, dtype=object)[proba.argmax(axis=1)]\n",
    "y_pred_test   = argmax_labels.copy()\n",
    "y_pred_test[proba[:, idx_nr] >= t] = 'functional needs repair'"
   ]
  },
  {
   "cell_type": "code",
   "execution_count": 170,
   "id": "ca3a8f1c-4df4-48c0-aeea-ab49d6b14788",
   "metadata": {},
   "outputs": [
    {
     "name": "stdout",
     "output_type": "stream",
     "text": [
      "Submission guardada en: C:\\Users\\sgalc\\OneDrive\\Escritorio\\Proyectos y documentos - Data Analist and BI\\entorno_python\\env_ML\\data base\\submission_random_forest_t022.csv\n",
      "status_group\n",
      "functional                 7612\n",
      "non functional             5074\n",
      "functional needs repair    2164\n",
      "Name: count, dtype: int64\n"
     ]
    }
   ],
   "source": [
    "# 6) guardar submission\n",
    "submission = pd.DataFrame({'id': id_test, 'status_group': y_pred_test})\n",
    "out_path = base / \"submission_random_forest_t022.csv\"\n",
    "submission.to_csv(out_path, index=False)\n",
    "print(\"Submission guardada en:\", out_path)\n",
    "print(submission['status_group'].value_counts())"
   ]
  },
  {
   "cell_type": "code",
   "execution_count": null,
   "id": "3e22fdc5-680a-4054-b9fb-ee74d1c89e7b",
   "metadata": {},
   "outputs": [],
   "source": [
    "######Best score\n",
    "0.7327\n",
    "Current rank\n",
    "#6954########"
   ]
  },
  {
   "cell_type": "code",
   "execution_count": null,
   "id": "5515a2f3-1b81-48ee-b4c0-951d95b8c6d8",
   "metadata": {},
   "outputs": [],
   "source": [
    "######  QUITAMOS EL UMBRAL PQ UEDE PENALIZAR EL ACCURACY #####"
   ]
  },
  {
   "cell_type": "code",
   "execution_count": 171,
   "id": "2259f1e4-a917-4c0c-a322-1703ddebc5a4",
   "metadata": {},
   "outputs": [
    {
     "name": "stdout",
     "output_type": "stream",
     "text": [
      " Guardada: submission_rf_argmax.csv\n"
     ]
    }
   ],
   "source": [
    "base = Path(r\"C:\\Users\\sgalc\\OneDrive\\Escritorio\\Proyectos y documentos - Data Analist and BI\\entorno_python\\env_ML\\data base\")\n",
    "\n",
    "test = pd.read_csv(base / \"test_final_con_id.csv\")\n",
    "id_test = test['id'].copy()\n",
    "X_test  = test.drop(columns=['id']).copy()\n",
    "\n",
    "# Derivar year/month (igual que en train)\n",
    "if 'date_recorded' in X_test.columns:\n",
    "    X_test['date_recorded'] = pd.to_datetime(X_test['date_recorded'], errors='coerce')\n",
    "    X_test['year_recorded']  = X_test['date_recorded'].dt.year\n",
    "    X_test['month_recorded'] = X_test['date_recorded'].dt.month\n",
    "    X_test = X_test.drop(columns=['date_recorded'])\n",
    "\n",
    "# Alinear columnas a las usadas en el fit\n",
    "X_test = X_test.reindex(columns=feature_cols, fill_value=np.nan)\n",
    "\n",
    "# Predicción normal (argmax)\n",
    "proba_te = clf.predict_proba(X_test)\n",
    "labels   = clf.named_steps['model'].classes_.tolist()\n",
    "y_pred_argmax = np.array(labels, dtype=object)[proba_te.argmax(axis=1)]\n",
    "\n",
    "sub_argmax = pd.DataFrame({'id': id_test, 'status_group': y_pred_argmax})\n",
    "sub_argmax.to_csv(base / \"submission_rf_argmax.csv\", index=False)\n",
    "print(\" Guardada: submission_rf_argmax.csv\")"
   ]
  },
  {
   "cell_type": "code",
   "execution_count": null,
   "id": "b1507250-8129-4943-9ac9-3eca21c5a591",
   "metadata": {},
   "outputs": [],
   "source": [
    "######Best score\n",
    "0.7694\n",
    "Current rank\n",
    "#6510#########"
   ]
  },
  {
   "cell_type": "code",
   "execution_count": null,
   "id": "3a47f0bf-3e35-4a43-aa73-63dd6759d0eb",
   "metadata": {},
   "outputs": [],
   "source": [
    "##### RANDOM FOREST SIN CLASS WEIGHT ######\n",
    "### SUBIENDO ARBOLES A 600 TAMBIEN ####"
   ]
  },
  {
   "cell_type": "code",
   "execution_count": 175,
   "id": "bec2e610-7027-440a-bf00-00a63c20b5cf",
   "metadata": {},
   "outputs": [
    {
     "name": "stdout",
     "output_type": "stream",
     "text": [
      "Guardada: submission_rf_argmax_plain.csv\n"
     ]
    }
   ],
   "source": [
    "# --- TRAIN (reconstruimos preprocesado sobre X actual) ---\n",
    "df_all = df_final.copy()\n",
    "if 'date_recorded' in df_all.columns:\n",
    "    df_all['date_recorded'] = pd.to_datetime(df_all['date_recorded'], errors='coerce')\n",
    "    df_all['year_recorded']  = df_all['date_recorded'].dt.year\n",
    "    df_all['month_recorded'] = df_all['date_recorded'].dt.month\n",
    "    df_all = df_all.drop(columns=['date_recorded'])\n",
    "\n",
    "y = df_all['status_group']\n",
    "X = df_all.drop(columns=['status_group','id'], errors='ignore')\n",
    "num_cols = [c for c in X.columns if pd.api.types.is_numeric_dtype(X[c])]\n",
    "cat_cols = [c for c in X.columns if c not in num_cols]\n",
    "\n",
    "pre = ColumnTransformer([\n",
    "    ('num', SimpleImputer(strategy='median'), num_cols),\n",
    "    ('cat', Pipeline([('imp', SimpleImputer(strategy='most_frequent')),\n",
    "                      ('ohe', OneHotEncoder(handle_unknown='ignore'))]), cat_cols),\n",
    "])\n",
    "\n",
    "rf_plain = RandomForestClassifier(\n",
    "    n_estimators=600, random_state=42, n_jobs=-1, class_weight=None\n",
    ")\n",
    "clf_plain = Pipeline([('prep', pre), ('model', rf_plain)])\n",
    "clf_plain.fit(X, y)\n",
    "\n",
    "# --- TEST + submission (argmax) ---\n",
    "base = Path(r\"C:\\Users\\sgalc\\OneDrive\\Escritorio\\Proyectos y documentos - Data Analist and BI\\entorno_python\\env_ML\\data base\")\n",
    "test = pd.read_csv(base / \"test_final_con_id.csv\")\n",
    "id_test = test['id'].copy()\n",
    "X_test  = test.drop(columns=['id']).copy()\n",
    "if 'date_recorded' in X_test.columns:\n",
    "    X_test['date_recorded'] = pd.to_datetime(X_test['date_recorded'], errors='coerce')\n",
    "    X_test['year_recorded']  = X_test['date_recorded'].dt.year\n",
    "    X_test['month_recorded'] = X_test['date_recorded'].dt.month\n",
    "    X_test = X_test.drop(columns=['date_recorded'])\n",
    "X_test = X_test.reindex(columns=X.columns, fill_value=np.nan)\n",
    "y_pred = clf_plain.predict(X_test)\n",
    "pd.DataFrame({'id': id_test, 'status_group': y_pred}).to_csv(\n",
    "    base / \"submission_rf_argmax_plain.csv\", index=False\n",
    ")\n",
    "print(\"Guardada: submission_rf_argmax_plain.csv\")\n",
    "\n"
   ]
  },
  {
   "cell_type": "code",
   "execution_count": null,
   "id": "6b863c40-ce63-430f-9e18-285da74c87b8",
   "metadata": {},
   "outputs": [],
   "source": [
    "###Best score\n",
    "0.7867\n",
    "Current rank\n",
    "#6053 ###"
   ]
  },
  {
   "cell_type": "code",
   "execution_count": null,
   "id": "35b5112c-12d3-4d0d-9250-dacd3c222b17",
   "metadata": {},
   "outputs": [],
   "source": [
    "####voy a revisar qutando y poniendo columnas como mejora el resultado####"
   ]
  },
  {
   "cell_type": "code",
   "execution_count": 183,
   "id": "dbedac13-bf76-4c60-8d75-db522b56a0b8",
   "metadata": {},
   "outputs": [
    {
     "name": "stdout",
     "output_type": "stream",
     "text": [
      "Columnas usadas: 16\n",
      "Accuracy:  0.7870\n",
      "F1 macro:  0.6595\n"
     ]
    }
   ],
   "source": [
    "import pandas as pd\n",
    "from sklearn.model_selection import train_test_split\n",
    "from sklearn.compose import ColumnTransformer\n",
    "from sklearn.preprocessing import OneHotEncoder\n",
    "from sklearn.impute import SimpleImputer\n",
    "from sklearn.pipeline import Pipeline\n",
    "from sklearn.ensemble import RandomForestClassifier\n",
    "from sklearn.metrics import accuracy_score, f1_score\n",
    "\n",
    "df_all = df_final.copy()  \n",
    "y = df_all['status_group']\n",
    "REMOVER = ['funder', 'extraction_type', 'extraction_type_group',] \n",
    "\n",
    "USE = [c for c in df_all.columns if c not in (['status_group','id'] + REMOVER)]\n",
    "X = df_all[USE]\n",
    "\n",
    "num_cols = [c for c in USE if pd.api.types.is_numeric_dtype(X[c])]\n",
    "cat_cols = [c for c in USE if c not in num_cols]\n",
    "\n",
    "pre = ColumnTransformer([\n",
    "    ('num', SimpleImputer(strategy='median'), num_cols),\n",
    "    ('cat', Pipeline([\n",
    "        ('imp', SimpleImputer(strategy='most_frequent')),\n",
    "        ('ohe', OneHotEncoder(handle_unknown='ignore'))\n",
    "    ]), cat_cols),])\n",
    "\n",
    "clf = Pipeline([\n",
    "    ('prep', pre),\n",
    "    ('model', RandomForestClassifier(n_estimators=500, random_state=42, n_jobs=-1))])\n",
    "\n",
    "\n",
    "X_tr, X_te, y_tr, y_te = train_test_split(X, y, test_size=0.2, stratify=y, random_state=42)\n",
    "clf.fit(X_tr, y_tr)\n",
    "y_pred = clf.predict(X_te)\n",
    "\n",
    "print(\"Columnas usadas:\", len(USE))\n",
    "print(f\"Accuracy:  {accuracy_score(y_te, y_pred):.4f}\")\n",
    "print(f\"F1 macro:  {f1_score(y_te, y_pred, average='macro'):.4f}\")\n",
    "\n",
    "\n",
    "USE_cols_for_test = USE[:]"
   ]
  },
  {
   "cell_type": "code",
   "execution_count": null,
   "id": "822d7dcc-b45b-47f1-b489-720e5a4728ce",
   "metadata": {},
   "outputs": [],
   "source": [
    "###Columnas finales: ['id', 'amount_tsh', 'date_recorded', 'gps_height', 'district_code', 'population', 'scheme_management', 'permit', \n",
    "'construction_year', 'extraction_type_class', 'payment_type', 'quality_group', 'quantity_group', \n",
    "'source_class', 'waterpoint_type_group', 'status_group', 'construction_year_cat']\n",
    "\n",
    "###Columnas guardadas aparte: ['scheme_name', 'installer', 'funder', 'wpt_name', 'num_private', 'subvillage', 'region_code', 'public_meeting', \n",
    "'recorded_by', 'extraction_type', 'extraction_type_group', 'region', 'basin', 'lga', 'payment', 'water_quality', 'quantity', 'source', 'source_type', \n",
    "'waterpoint_type', 'ward', 'management', 'management_group', 'longitude', 'latitude']"
   ]
  },
  {
   "cell_type": "code",
   "execution_count": null,
   "id": "22272042-eb12-4ba3-a438-e85c5f0a401c",
   "metadata": {},
   "outputs": [],
   "source": [
    "### WORST RESULT: #REMOVER = ['funder', 'extraction_type', 'extraction_type_group', 'payment_type', 'scheme_management'] "
   ]
  },
  {
   "cell_type": "code",
   "execution_count": null,
   "id": "9dee7727-5d99-4704-bed8-a14477413d02",
   "metadata": {},
   "outputs": [],
   "source": [
    "Columnas usadas: 14\n",
    "Accuracy:  0.7806\n",
    "F1 macro:  0.6446"
   ]
  },
  {
   "cell_type": "code",
   "execution_count": null,
   "id": "9f4bd1ad-3c94-4761-8071-7714c5a20f58",
   "metadata": {},
   "outputs": [],
   "source": [
    "### WORST RESULT: #REMOVER = ['funder', 'extraction_type', 'extraction_type_group', 'payment_type']"
   ]
  },
  {
   "cell_type": "code",
   "execution_count": null,
   "id": "014c3a27-4473-4fe0-871f-ad02844b8acf",
   "metadata": {},
   "outputs": [],
   "source": [
    "Columnas usadas: 15\n",
    "Accuracy:  0.7833\n",
    "F1 macro:  0.6505"
   ]
  },
  {
   "cell_type": "code",
   "execution_count": null,
   "id": "13c62929-88e5-4743-bc3f-a57a66250cad",
   "metadata": {},
   "outputs": [],
   "source": [
    "### Slightly better resut =  #REMOVER = ['funder', 'extraction_type', 'extraction_type_group']"
   ]
  },
  {
   "cell_type": "code",
   "execution_count": null,
   "id": "b2e2430d-5fe6-488d-93f3-1bb94da97a6a",
   "metadata": {},
   "outputs": [],
   "source": [
    "Columnas usadas: 16\n",
    "Accuracy:  0.7870\n",
    "F1 macro:  0.6595"
   ]
  },
  {
   "cell_type": "code",
   "execution_count": null,
   "id": "4b2de5ba-2e61-4136-b47a-1f7f7021c7b0",
   "metadata": {},
   "outputs": [],
   "source": [
    "### probamos aumentando el numero de arboles, que antes funciono"
   ]
  },
  {
   "cell_type": "code",
   "execution_count": 185,
   "id": "4d22d25e-4371-4461-a9ab-698e3e23367a",
   "metadata": {},
   "outputs": [
    {
     "name": "stdout",
     "output_type": "stream",
     "text": [
      "Cols usadas: 16\n",
      "Accuracy:  0.7830\n",
      "F1 macro:  0.6145\n"
     ]
    }
   ],
   "source": [
    "from sklearn.ensemble import ExtraTreesClassifier\n",
    "from sklearn.metrics import accuracy_score, f1_score\n",
    "\n",
    "df = df_final.copy()\n",
    "y  = df['status_group']\n",
    "\n",
    "# quitamos columnas que ya hemos visto no aportan\n",
    "REMOVER = ['funder', 'extraction_type', 'extraction_type_group']  # \"lean\"\n",
    "USE = [c for c in df.columns if c not in (['status_group','id'] + REMOVER)]\n",
    "X = df[USE]\n",
    "\n",
    "# prepro mínimo\n",
    "num_cols = [c for c in USE if pd.api.types.is_numeric_dtype(X[c])]\n",
    "cat_cols = [c for c in USE if c not in num_cols]\n",
    "prep = ColumnTransformer([\n",
    "    ('num', SimpleImputer(strategy='median'), num_cols),\n",
    "    ('cat', Pipeline([('imp', SimpleImputer(strategy='most_frequent')),\n",
    "                      ('ohe', OneHotEncoder(handle_unknown='ignore'))]), cat_cols),])\n",
    "\n",
    "# aumentamos arboles en modelo\n",
    "modelo = ExtraTreesClassifier(\n",
    "    n_estimators=700,      \n",
    "    min_samples_leaf=2,    \n",
    "    max_features='sqrt',   \n",
    "    random_state=42, n_jobs=-1)\n",
    "\n",
    "clf = Pipeline([('prep', prep), ('model', modelo)])\n",
    "\n",
    "#chequeamos\n",
    "Xtr, Xte, ytr, yte = train_test_split(X, y, test_size=0.2, stratify=y, random_state=42)\n",
    "clf.fit(Xtr, ytr)\n",
    "yp = clf.predict(Xte)\n",
    "print(\"Cols usadas:\", len(USE))\n",
    "print(f\"Accuracy:  {accuracy_score(yte, yp):.4f}\")\n",
    "print(f\"F1 macro:  {f1_score(yte, yp, average='macro'):.4f}\")"
   ]
  },
  {
   "cell_type": "code",
   "execution_count": null,
   "id": "cb569e8d-c197-4275-a1b9-98a715a38884",
   "metadata": {},
   "outputs": [],
   "source": [
    "### peor resutado"
   ]
  },
  {
   "cell_type": "code",
   "execution_count": null,
   "id": "40fa6730-914e-42ff-bc5b-206b19ca1b5e",
   "metadata": {},
   "outputs": [],
   "source": [
    "### probamos modelos variantes del randomforest con las columnas que ya decidimos quitar"
   ]
  },
  {
   "cell_type": "code",
   "execution_count": null,
   "id": "eb643aee-5bc9-4342-bc07-cfe21cdf6216",
   "metadata": {},
   "outputs": [],
   "source": [
    "#### igual o peor resultado, me quedo con el modelo de antes, Modelo: RandomForest 500 árboles, sin class_weight,\n",
    "#quitando ['funder', 'extraction_type', 'extraction_type_group']"
   ]
  },
  {
   "cell_type": "code",
   "execution_count": 194,
   "id": "ad221915-d85a-4575-bca8-f4a284f883aa",
   "metadata": {},
   "outputs": [
    {
     "name": "stdout",
     "output_type": "stream",
     "text": [
      "rf_base -> acc=0.7870 | f1_macro=0.6595\n",
      "rf_reg -> acc=0.7821 | f1_macro=0.6091\n",
      "rf_log2 -> acc=0.7864 | f1_macro=0.6593\n",
      "\n",
      "Mejor modelo: rf_base (accuracy=0.7870)\n"
     ]
    }
   ],
   "source": [
    "# 1) Parto los datos en train y test (80/20)\n",
    "from sklearn.model_selection import train_test_split\n",
    "Xtr, Xte, ytr, yte = train_test_split(X, y, test_size=0.2, stratify=y, random_state=42)\n",
    "\n",
    "# 2) Lista de modelos a probar \n",
    "variants = {\"rf_base\": RandomForestClassifier(n_estimators=500, random_state=42, n_jobs=-1),\n",
    "            \"rf_reg\" : RandomForestClassifier(n_estimators=600, max_depth=18, min_samples_leaf=3,\n",
    "                                      random_state=42, n_jobs=-1),\n",
    "            \"rf_log2\": RandomForestClassifier(n_estimators=600, max_features='log2',\n",
    "                                      random_state=42, n_jobs=-1),}\n",
    "\n",
    "# 3) Bucle: entreno, predigo y mido\n",
    "from sklearn.metrics import accuracy_score, f1_score\n",
    "best_name, best_acc, best_clf = None, -1, None\n",
    "\n",
    "for name, model in variants.items():\n",
    "    \n",
    "    clf = Pipeline([('prep', prep), ('model', model)])  \n",
    "    clf.fit(Xtr, ytr)               \n",
    "    yp = clf.predict(Xte)           \n",
    "    acc = accuracy_score(yte, yp)   \n",
    "    f1m = f1_score(yte, yp, average='macro')  \n",
    "    print(f\"{name} -> acc={acc:.4f} | f1_macro={f1m:.4f}\")\n",
    "\n",
    "    \n",
    "    if acc > best_acc:\n",
    "        best_name, best_acc, best_clf = name, acc, clf\n",
    "\n",
    "print(f\"\\nMejor modelo: {best_name} (accuracy={best_acc:.4f})\")"
   ]
  },
  {
   "cell_type": "code",
   "execution_count": 191,
   "id": "9a0ffaff-7406-4a55-940a-4e9061dc00ef",
   "metadata": {},
   "outputs": [
    {
     "name": "stdout",
     "output_type": "stream",
     "text": [
      "Submission guardada en: C:\\Users\\sgalc\\OneDrive\\Escritorio\\Proyectos y documentos - Data Analist and BI\\entorno_python\\env_ML\\data base\\submission_rf_lean_argmax.csv\n"
     ]
    }
   ],
   "source": [
    "\n",
    "BASE_REMOVE = ['funder','extraction_type','extraction_type_group']\n",
    "\n",
    "df = df_final.copy()\n",
    "y  = df['status_group']\n",
    "USE = [c for c in df.columns if c not in (['status_group','id'] + BASE_REMOVE)]\n",
    "\n",
    "# --- X train \n",
    "X = df[USE].copy().replace({pd.NA: np.nan})\n",
    "num_cols = [c for c in USE if pd.api.types.is_numeric_dtype(X[c])]\n",
    "cat_cols = [c for c in USE if c not in num_cols]\n",
    "\n",
    "pre = ColumnTransformer([\n",
    "    ('num', SimpleImputer(strategy='median'), num_cols),\n",
    "    ('cat', Pipeline([('imp', SimpleImputer(strategy='most_frequent')),\n",
    "                      ('ohe', OneHotEncoder(handle_unknown='ignore'))]), cat_cols),])\n",
    "\n",
    "clf = Pipeline([('prep', pre),\n",
    "                ('model', RandomForestClassifier(n_estimators=500, random_state=42, n_jobs=-1))])\n",
    "\n",
    "# --- entrenar con TODO el train ---\n",
    "clf.fit(X, y)\n",
    "\n",
    "# --- preparar TEST y predecir (argmax) ---\n",
    "base = Path(r\"C:\\Users\\sgalc\\OneDrive\\Escritorio\\Proyectos y documentos - Data Analist and BI\\entorno_python\\env_ML\\data base\")\n",
    "test = pd.read_csv(base / \"test_final_con_id.csv\")\n",
    "id_test = test['id'].copy()\n",
    "X_test  = (test.drop(columns=['id'])\n",
    "                .reindex(columns=USE, fill_value=np.nan)\n",
    "                .replace({pd.NA: np.nan}))\n",
    "\n",
    "y_pred = clf.predict(X_test)\n",
    "\n",
    "# --- guardar submission ---\n",
    "submission = pd.DataFrame({'id': id_test, 'status_group': y_pred})\n",
    "out_path = base / \"submission_rf_lean_argmax.csv\"\n",
    "submission.to_csv(out_path, index=False)\n",
    "print(\"Submission guardada en:\", out_path)"
   ]
  },
  {
   "cell_type": "code",
   "execution_count": 192,
   "id": "e0fb3c81-0e80-4a1d-bf0b-33b76f56960c",
   "metadata": {},
   "outputs": [
    {
     "name": "stdout",
     "output_type": "stream",
     "text": [
      "Columnas usadas: 16\n",
      "Accuracy (val):  0.7870\n",
      "F1 macro (val):  0.6595\n",
      " Submission guardada en: C:\\Users\\sgalc\\OneDrive\\Escritorio\\Proyectos y documentos - Data Analist and BI\\entorno_python\\env_ML\\data base\\submission_rf_16cols_argmax.csv\n"
     ]
    }
   ],
   "source": [
    "df_all = df_final.copy()\n",
    "y = df_all['status_group']\n",
    "\n",
    "REMOVER = ['funder', 'extraction_type', 'extraction_type_group']  \n",
    "USE = [c for c in df_all.columns if c not in (['status_group','id'] + REMOVER)]\n",
    "X = df_all[USE].copy()\n",
    "\n",
    "num_cols = [c for c in USE if pd.api.types.is_numeric_dtype(X[c])]\n",
    "cat_cols = [c for c in USE if c not in num_cols]\n",
    "\n",
    "# ========== 2) Pipeline ==========\n",
    "pre = ColumnTransformer([\n",
    "    ('num', SimpleImputer(strategy='median'), num_cols),\n",
    "    ('cat', Pipeline([\n",
    "        ('imp', SimpleImputer(strategy='most_frequent')),\n",
    "        ('ohe', OneHotEncoder(handle_unknown='ignore'))\n",
    "    ]), cat_cols),])\n",
    "\n",
    "clf = Pipeline([\n",
    "    ('prep', pre),\n",
    "    ('model', RandomForestClassifier(n_estimators=500, random_state=42, n_jobs=-1))])\n",
    "\n",
    "# ========== 3) EVALUACIÓN antes de submission ==========\n",
    "X_tr, X_te, y_tr, y_te = train_test_split(X, y, test_size=0.20, stratify=y, random_state=42)\n",
    "clf.fit(X_tr, y_tr)\n",
    "y_pred = clf.predict(X_te)\n",
    "\n",
    "print(\"Columnas usadas:\", len(USE))\n",
    "print(f\"Accuracy (val):  {accuracy_score(y_te, y_pred):.4f}\")\n",
    "print(f\"F1 macro (val):  {f1_score(y_te, y_pred, average='macro'):.4f}\")\n",
    "\n",
    "# ========== 4) ENTRENAR en TODO el train ==========\n",
    "clf.fit(X, y)\n",
    "\n",
    "# ========== 5) PREDICCIONES TEST y SUBMISSION ==========\n",
    "base = Path(r\"C:\\Users\\sgalc\\OneDrive\\Escritorio\\Proyectos y documentos - Data Analist and BI\\entorno_python\\env_ML\\data base\")\n",
    "test = pd.read_csv(base / \"test_final_con_id.csv\")\n",
    "\n",
    "id_test = test['id'].copy()\n",
    "X_test  = test.drop(columns=['id']).copy()\n",
    "# Alinear exactamente las columnas usadas\n",
    "X_test = X_test.reindex(columns=USE, fill_value=np.nan)\n",
    "\n",
    "# Predicción argmax\n",
    "y_pred_test = clf.predict(X_test)\n",
    "\n",
    "# Guardar submission\n",
    "submission = pd.DataFrame({'id': id_test, 'status_group': y_pred_test})\n",
    "out_path = base / \"submission_rf_16cols_argmax.csv\"\n",
    "submission.to_csv(out_path, index=False)\n",
    "print(\" Submission guardada en:\", out_path)"
   ]
  },
  {
   "cell_type": "code",
   "execution_count": 193,
   "id": "33001ec5-9cd7-461a-a479-962c60f2ee73",
   "metadata": {},
   "outputs": [
    {
     "name": "stdout",
     "output_type": "stream",
     "text": [
      "Columnas usadas: 16\n",
      "Accuracy:  0.7870\n",
      "F1 macro:  0.6595\n",
      " Submission guardada en: C:\\Users\\sgalc\\OneDrive\\Escritorio\\Proyectos y documentos - Data Analist and BI\\entorno_python\\env_ML\\data base\\submission_rf_16cols_argmax_final.csv\n"
     ]
    }
   ],
   "source": [
    "df_all = df_final.copy()  \n",
    "y = df_all['status_group']\n",
    "REMOVER = ['funder', 'extraction_type', 'extraction_type_group',] \n",
    "\n",
    "USE = [c for c in df_all.columns if c not in (['status_group','id'] + REMOVER)]\n",
    "X = df_all[USE]\n",
    "\n",
    "num_cols = [c for c in USE if pd.api.types.is_numeric_dtype(X[c])]\n",
    "cat_cols = [c for c in USE if c not in num_cols]\n",
    "\n",
    "pre = ColumnTransformer([\n",
    "    ('num', SimpleImputer(strategy='median'), num_cols),\n",
    "    ('cat', Pipeline([\n",
    "        ('imp', SimpleImputer(strategy='most_frequent')),\n",
    "        ('ohe', OneHotEncoder(handle_unknown='ignore'))\n",
    "    ]), cat_cols),])\n",
    "\n",
    "clf = Pipeline([\n",
    "    ('prep', pre),\n",
    "    ('model', RandomForestClassifier(n_estimators=500, random_state=42, n_jobs=-1))])\n",
    "\n",
    "\n",
    "X_tr, X_te, y_tr, y_te = train_test_split(X, y, test_size=0.2, stratify=y, random_state=42)\n",
    "clf.fit(X_tr, y_tr)\n",
    "y_pred = clf.predict(X_te)\n",
    "\n",
    "print(\"Columnas usadas:\", len(USE))\n",
    "print(f\"Accuracy:  {accuracy_score(y_te, y_pred):.4f}\")\n",
    "print(f\"F1 macro:  {f1_score(y_te, y_pred, average='macro'):.4f}\")\n",
    "\n",
    "submission = pd.DataFrame({'id': id_test, 'status_group': y_pred_test})\n",
    "out_path = base / \"submission_rf_16cols_argmax_final.csv\"\n",
    "submission.to_csv(out_path, index=False)\n",
    "print(\" Submission guardada en:\", out_path)"
   ]
  },
  {
   "cell_type": "code",
   "execution_count": null,
   "id": "b39125cb-2ab2-4dae-9ec7-52fa0e4fce2a",
   "metadata": {},
   "outputs": [],
   "source": []
  }
 ],
 "metadata": {
  "kernelspec": {
   "display_name": "Python 3 (ipykernel)",
   "language": "python",
   "name": "python3"
  },
  "language_info": {
   "codemirror_mode": {
    "name": "ipython",
    "version": 3
   },
   "file_extension": ".py",
   "mimetype": "text/x-python",
   "name": "python",
   "nbconvert_exporter": "python",
   "pygments_lexer": "ipython3",
   "version": "3.9.1"
  }
 },
 "nbformat": 4,
 "nbformat_minor": 5
}
